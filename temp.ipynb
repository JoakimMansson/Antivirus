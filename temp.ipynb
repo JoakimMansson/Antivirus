{
 "cells": [
  {
   "cell_type": "code",
   "execution_count": 2,
   "metadata": {},
   "outputs": [],
   "source": [
    "import numpy as np "
   ]
  },
  {
   "cell_type": "code",
   "execution_count": 16,
   "metadata": {},
   "outputs": [],
   "source": [
    "def euclidean_distance(x, y):\n",
    "    minus = x-y\n",
    "    print(f\"minus {minus.shape}: {minus}\")\n",
    "    pwr_of = np.pow(minus, 2)\n",
    "    print(f\"pwr_of {pwr_of.shape}: {pwr_of}\")\n",
    "    summed = np.sum(pwr_of, axis=1)\n",
    "    print(f\"summed {summed.shape}: {summed}\")\n",
    "    return summed"
   ]
  },
  {
   "cell_type": "code",
   "execution_count": 15,
   "metadata": {},
   "outputs": [
    {
     "name": "stdout",
     "output_type": "stream",
     "text": [
      "minus (2, 4): [[ -90 -180 -270 -360]\n",
      " [-450 -540 -630 -720]]\n",
      "pwr_of (2, 4): [[  8100  32400  72900 129600]\n",
      " [202500 291600 396900 518400]]\n",
      "summed (4,): [210600 324000 469800 648000]\n",
      "[210600 324000 469800 648000]\n"
     ]
    }
   ],
   "source": [
    "anchor = np.array([\n",
    "    [1, 2, 3, 4],\n",
    "    [5, 6, 7, 8]\n",
    "])\n",
    "\n",
    "positive = np.array([\n",
    "    [10, 20, 30, 40],\n",
    "    [50, 60, 70, 80]\n",
    "])\n",
    "\n",
    "negative = np.array([\n",
    "    [100, 200, 300, 400],\n",
    "    [500, 600, 700, 800]\n",
    "])\n",
    "\n",
    "print(euclidean_distance(positive, negative))"
   ]
  },
  {
   "cell_type": "code",
   "execution_count": null,
   "metadata": {},
   "outputs": [],
   "source": []
  }
 ],
 "metadata": {
  "kernelspec": {
   "display_name": "base",
   "language": "python",
   "name": "python3"
  },
  "language_info": {
   "codemirror_mode": {
    "name": "ipython",
    "version": 3
   },
   "file_extension": ".py",
   "mimetype": "text/x-python",
   "name": "python",
   "nbconvert_exporter": "python",
   "pygments_lexer": "ipython3",
   "version": "3.12.9"
  }
 },
 "nbformat": 4,
 "nbformat_minor": 2
}
