{
 "cells": [
  {
   "cell_type": "code",
   "execution_count": null,
   "metadata": {},
   "outputs": [],
   "source": [
    "import pefile\n",
    "import os\n",
    "import hashlib\n",
    "import math\n",
    "from torch import optim, nn\n",
    "from torch.utils.data import DataLoader, Dataset\n",
    "import torch\n",
    "import numpy as np\n",
    "\n",
    "from sklearn.model_selection import train_test_split\n",
    "\n",
    "import matplotlib.pyplot as plt"
   ]
  },
  {
   "cell_type": "code",
   "execution_count": 8,
   "metadata": {},
   "outputs": [],
   "source": [
    "def getNFiles(root=\"/\", n_files=500):\n",
    "    stored_files = []\n",
    "    for dirpath, dirs, files in os.walk(root, topdown=False):\n",
    "        for filename in files:\n",
    "            if filename.endswith(\".exe\"):\n",
    "                stored_files.append(dirpath + \"/\" + filename)\n",
    "            \n",
    "            if len(stored_files) >= n_files: return stored_files\n",
    "    \n",
    "    return stored_files\n",
    "\n",
    "files = getNFiles(n_files=100)"
   ]
  },
  {
   "cell_type": "markdown",
   "metadata": {},
   "source": [
    "# **Extracting file data**"
   ]
  },
  {
   "cell_type": "code",
   "execution_count": 9,
   "metadata": {},
   "outputs": [],
   "source": [
    "pe = pefile.PE(files[0])\n",
    "pe.full_load()"
   ]
  },
  {
   "cell_type": "markdown",
   "metadata": {},
   "source": [
    "## 1.) Imported Symbols"
   ]
  },
  {
   "cell_type": "code",
   "execution_count": 10,
   "metadata": {},
   "outputs": [],
   "source": [
    "def getImports(pe: pefile.PE):\n",
    "    imports = []\n",
    "    for entry in pe.DIRECTORY_ENTRY_IMPORT:\n",
    "        for imp in entry.imports:\n",
    "            imports.append(imp.name.decode(\"utf-8\"))\n",
    "    \n",
    "    return imports"
   ]
  },
  {
   "cell_type": "markdown",
   "metadata": {},
   "source": [
    "### 1.1) Get all imports and weight them"
   ]
  },
  {
   "cell_type": "code",
   "execution_count": null,
   "metadata": {},
   "outputs": [
    {
     "name": "stdout",
     "output_type": "stream",
     "text": [
      "Failed to read file:  /mnt/c/$RECYCLE.BIN/S-1-5-21-2210480649-2313652220-1945043235-1001/$REY8PR4/Image to Speech/Library/PackageCache/com.unity.ide.visualstudio@2.0.22/Editor/COMIntegration/Release/COMIntegration.exe 'NoneType' object has no attribute 'decode'\n",
      "Failed to read file:  /mnt/c/AI_RecycleBin/{AA8E5A88-AA90-4DB6-B0A5-9F9C187FAA16}/138/XSplit.Video.Editor.exe 'NoneType' object has no attribute 'decode'\n",
      "Failed to read file:  /mnt/c/AI_RecycleBin/{AA8E5A88-AA90-4DB6-B0A5-9F9C187FAA16}/144/XSplitCleanup2x64.exe 'PE' object has no attribute 'DIRECTORY_ENTRY_IMPORT'\n",
      "Failed to read file:  /mnt/c/AI_RecycleBin/{AA8E5A88-AA90-4DB6-B0A5-9F9C187FAA16}/160/xsplit_updater.exe 'NoneType' object has no attribute 'decode'\n",
      "Failed to read file:  /mnt/c/Program Files/7-Zip/7zFM.exe 'NoneType' object has no attribute 'decode'\n",
      "Failed to read file:  /mnt/c/Program Files/7-Zip/7zG.exe 'NoneType' object has no attribute 'decode'\n",
      "Failed to read file:  /mnt/c/Program Files/Angry IP Scanner/uninstall.exe 'NoneType' object has no attribute 'decode'\n",
      "Failed to read file:  /mnt/c/Program Files/ASUS/AMDA/Io/AsIoIns.exe 'NoneType' object has no attribute 'decode'\n",
      "Failed to read file:  /mnt/c/Program Files/ASUS/AMDA/Io/AsIoUnins.exe 'NoneType' object has no attribute 'decode'\n",
      "Failed to read file:  /mnt/c/Program Files/BraveSoftware/Brave-Browser/Application/135.1.77.95/BraveVpnWireguardService/brave_vpn_wireguard_service.exe 'NoneType' object has no attribute 'decode'\n",
      "Failed to read file:  /mnt/c/Program Files/BraveSoftware/Brave-Browser/Application/135.1.77.95/Installer/chrmstp.exe 'NoneType' object has no attribute 'decode'\n",
      "Failed to read file:  /mnt/c/Program Files/BraveSoftware/Brave-Browser/Application/135.1.77.95/Installer/setup.exe 'NoneType' object has no attribute 'decode'\n",
      "Failed to read file:  /mnt/c/Program Files/BraveSoftware/Brave-Browser/Application/135.1.77.95/brave_vpn_helper.exe 'NoneType' object has no attribute 'decode'\n",
      "Failed to read file:  /mnt/c/Program Files/BraveSoftware/Brave-Browser/Application/135.1.77.95/elevation_service.exe 'NoneType' object has no attribute 'decode'\n",
      "Failed to read file:  /mnt/c/Program Files/BraveSoftware/Brave-Browser/Application/135.1.77.95/notification_helper.exe 'NoneType' object has no attribute 'decode'\n",
      "Failed to read file:  /mnt/c/Program Files/Common Files/microsoft shared/ink/mip.exe 'NoneType' object has no attribute 'decode'\n",
      "Failed to read file:  /mnt/c/Program Files/Common Files/microsoft shared/ink/ShapeCollector.exe 'NoneType' object has no attribute 'decode'\n",
      "Failed to read file:  /mnt/c/Program Files/Common Files/microsoft shared/MSInfo/msinfo32.exe 'NoneType' object has no attribute 'decode'\n",
      "Failed to read file:  /mnt/c/Program Files/Common Files/Oracle/Java/javapath_target_78079406/java.exe 'NoneType' object has no attribute 'decode'\n",
      "Failed to read file:  /mnt/c/Program Files/Common Files/Oracle/Java/javapath_target_78079406/javac.exe 'NoneType' object has no attribute 'decode'\n",
      "Failed to read file:  /mnt/c/Program Files/Common Files/Oracle/Java/javapath_target_78079406/javaw.exe 'NoneType' object has no attribute 'decode'\n",
      "Failed to read file:  /mnt/c/Program Files/Common Files/Oracle/Java/javapath_target_78079406/jshell.exe 'NoneType' object has no attribute 'decode'\n",
      "Failed to read file:  /mnt/c/Program Files/Common Files/Oracle/Java/javatmp/java.exe 'NoneType' object has no attribute 'decode'\n",
      "Failed to read file:  /mnt/c/Program Files/Common Files/Oracle/Java/javatmp/javaw.exe 'NoneType' object has no attribute 'decode'\n",
      "Failed to read file:  /mnt/c/Program Files/DIFX/13E1C34D33D4F94F/pololu-cp2102-setup-x64.exe 'NoneType' object has no attribute 'decode'\n",
      "Failed to read file:  /mnt/c/Program Files/DIFX/4A7292F75FEBBD3C/dpinst.exe 'NoneType' object has no attribute 'decode'\n",
      "Failed to read file:  /mnt/c/Program Files/DIFX/4A7292F75FEBBD3C/dpinst_x64.exe 'NoneType' object has no attribute 'decode'\n",
      "Failed to read file:  /mnt/c/Program Files/DIFX/8730326CFC0D32D8/dpinst-amd64.exe 'NoneType' object has no attribute 'decode'\n",
      "Failed to read file:  /mnt/c/Program Files/DIFX/B60D1297D6D5E54C/dpinst_amd64.exe 'NoneType' object has no attribute 'decode'\n",
      "Failed to read file:  /mnt/c/Program Files/DIFX/B6633336093235AA/DPinst64.exe 'NoneType' object has no attribute 'decode'\n",
      "Failed to read file:  /mnt/c/Program Files/DIFX/ED3A003EBE2033AD/dpinst_x64.exe 'NoneType' object has no attribute 'decode'\n",
      "Failed to read file:  /mnt/c/Program Files/DIFX/F4092DA208C2C970/DPInst64.exe 'NoneType' object has no attribute 'decode'\n",
      "Failed to read file:  /mnt/c/Program Files/Docker/Docker/frontend/Docker Desktop.exe 'NoneType' object has no attribute 'decode'\n",
      "global_import_vocab:  {'ImmGetCompositionStringW', 'SetWindowLongW', 'av_packet_rescale_ts', 'GetVersion', 'SHGetSpecialFolderLocation', 'GetConsoleCursorInfo', 'GdipGetImageWidth', 'OutputDebugStringA', '_beginthreadex', 'GdipDisposeImage', 'av_frame_move_ref', 'GetVersionExA', '_write', 'GetTextMetricsW', '__initenv', 'CopyImage', 'CreateSemaphoreExW', 'SetWindowPlacement', 'CreateStreamOnHGlobal', 'GetMenuCheckMarkDimensions', 'ReleaseStgMedium', 'av_copy_packet_side_data', 'PathAddBackslashW', 'CreateErrorInfo', 'SaveDC', 'ExitThread', 'av_strlcpy', 'toupper', 'ExtCreatePen', 'IsClipboardFormatAvailable', 'DragFinish', 'GlobalReAlloc', 'lstrcmpiW', 'AllocateAndInitializeSid', 'GetKeyboardLayout', 'EnumResourceLanguagesW', 'av_expr_free', 'av_parse_ratio', 'CopyEnhMetaFileW', 'GlobalGetAtomNameW', '_wtoi', 'OleUninitialize', 'GetSecurityDescriptorDacl', 'OpenPrinterW', 'AcquireSRWLockExclusive', 'EndDialog', 'DeleteTimerQueueTimer', 'av_bitstream_filter_close', 'CreatePen', 'GlobalAddAtomA', 'OpenMutexA', 'GetWindowExtEx', 'QueryActCtxW', 'VerifyVersionInfoA', 'avcodec_register_all', 'IsWindowEnabled', '_commode', 'ClientToScreen', 'GetWindowRgn', 'CreateDialogIndirectParamW', 'GetConsoleTitleW', 'GetComboBoxInfo', 'JLI_InitArgProcessing', 'av_buffersrc_add_frame_flags', 'ChooseColorA', 'GetVersionExW', 'fprintf', 'realloc', 'AppendMenuA', 'avcodec_find_encoder', 'DrawStateA', '_unlock', 'VarBstrFromDate', 'QueueUserWorkItem', 'SetNamedPipeHandleState', 'CreateDialogParamW', 'memcpy_s', 'VirtualQueryEx', 'OpenInputDesktop', 'lstrcpynW', 'SetCommState', 'LoadLibraryExW', 'av_format_set_subtitle_codec', 'IsZoomed', 'SetPropW', 'GetNumberOfConsoleInputEvents', 'atan2', 'SetCommTimeouts', 'SetParent', 'DPtoLP', 'GetClassLongW', 'puts', 'NdrCStdStubBuffer2_Release', 'SetWindowRgn', 'select', 'FillConsoleOutputCharacterW', 'FreeSid', '_seh_filter_exe', 'SetMenuItemInfoA', 'SetLayeredWindowAttributes', 'av_frame_ref', 'IsExtensionPointDisableSet', 'av_bitstream_filter_init', 'GetThreadLocale', 'SetProcessMitigationPolicy', 'GetDriveTypeA', 'GetObjectA', '__p___argc', 'GlobalSize', '_getpid', '_lock', 'SetCurrentDirectoryA', 'ShellExecuteA', 'SetupComm', 'GlobalDeleteAtom', 'avcodec_find_best_pix_fmt_of_2', 'avsubtitle_free', 'RealChildWindowFromPoint', 'TrackMouseEvent', 'SetHandleCount', 'FrameRect', 'LocalFree', 'GetThemeSysColor', 'AccessibleObjectFromWindow', 'SystemTimeToFileTime', 'av_log_get_flags', 'GetSecurityDescriptorLength', 'GetErrorInfo', 'av_get_exact_bits_per_sample', 'CreateCompatibleBitmap', 'mbstowcs', '_iob', 'GetKeyNameTextW', 'GetWindowLongPtrA', 'GetWindowDC', 'av_get_standard_channel_layout', 'SetThreadAffinityMask', 'DestroyEnvironmentBlock', 'PowerWriteACDefaultIndex', 'avfilter_pad_get_name', 'SetConsoleWindowInfo', 'GdipBitmapLockBits', 'DeleteObject', 'GetPaletteEntries', 'SafeArrayLock', 'FindResourceExW', 'timeGetTime', 'avio_check', 'MappingGetServices', 'CreateMutexA', 'av_compare_ts', 'ValidateRect', 'av_register_all', 'SetFileApisToOEM', 'GetBrushOrgEx', 'GetFileInformationByHandleEx', 'GetWindowOrgEx', 'GetWindowTextLengthA', 'PowerDeleteScheme', 'CreateDIBSection', 'CreateFontIndirectA', 'GlobalMemoryStatusEx', 'RemoveDirectoryA', 'BCryptCreateHash', 'fflush', 'CreateBrushIndirect', 'GetDlgItem', 'exit', 'EtwEventSetInformation', 'SendDlgItemMessageW', 'ReadProcessMemory', 'GetWindowTextA', 'MultiByteToWideChar', 'PathFindFileNameA', 'OpenFileMappingW', 'SetForegroundWindow', 'CopyMetaFileW', 'GetLocalTime', 'JLI_MemAlloc', 'DeleteProcThreadAttributeList', 'SetupDiSetDeviceRegistryPropertyA', 'TryEnterCriticalSection', 'recv', 'PathFindFileNameW', 'floor', 'GetMessagePos', 'GetProcessHandleCount', 'lstrcpynA', 'GetSystemMenu', 'SetServiceStatus', 'InvalidateRgn', 'WaitForThreadpoolTimerCallbacks', 'CoSetProxyBlanket', 'StgOpenStorageOnILockBytes', 'strncpy', 'ImmGetContext', 'avcodec_find_decoder', 'SHCreateStreamOnFileW', 'CreateFileMappingA', 'VerifyVersionInfoW', 'InitializeConditionVariable', 'GetPropW', 'GetSysColorBrush', 'GdipCreateBitmapFromHBITMAP', 'avformat_find_stream_info', 'av_log_default_callback', 'SetWindowsHookExW', 'av_strtod', 'GetTopWindow', 'JLI_CmdToArgs', 'ExpandEnvironmentStringsA', 'ExtSelectClipRgn', 'GetTextExtentPointW', 'SleepEx', 'GetSecurityDescriptorOwner', 'ShellExecuteW', 'MsgWaitForMultipleObjectsEx', 'CommandLineToArgvW', 'CharLowerBuffW', 'EnumFontFamiliesA', 'CallWindowProcA', 'GetMenuStringW', 'SetBkMode', 'CloseWindowStation', 'atexit', 'ImageList_DragShowNolock', 'av_frame_free', 'OpenServiceA', 'GetTempFileNameA', 'CoRegisterMessageFilter', 'strtod', 'setsockopt', 'CreateSemaphoreA', 'RegisterClassExW', 'GetRgnBox', 'GetFileTitleW', 'EtwEventActivityIdControl', 'swscale_version', '__p__environ', 'SetLayout', 'GetSaveFileNameA', 'SetClassLongW', 'IsDBCSLeadByteEx', 'OutputDebugStringW', 'RegOpenKeyW', 'PeekConsoleInputA', 'GetActiveWindow', 'SystemTimeToVariantTime', 'BeginPaint', 'GetClassNameA', 'GetCurrentProcessId', 'PurgeComm', 'DeactivateActCtx', 'SetInformationJobObject', 'DrawIconEx', 'AreFileApisANSI', 'SetProcessShutdownParameters', 'GetSystemDefaultLangID', 'GetStringTypeW', 'avformat_query_codec', 'RegDeleteValueW', 'MoveWindow', 'EnumFontFamiliesExW', 'FindNextFileA', 'RegisterEventSourceW', 'VarBstrCat', '_wcsicmp', 'CM_Get_Child', 'IsIconic', 'GetWinMetaFileBits', 'CreateDCA', 'GenerateConsoleCtrlEvent', 'JLI_GetStdArgs', 'av_frame_alloc', 'InsertMenuItemW', 'SetFileAttributesW', 'SetHandleInformation', 'accept', 'VarBstrFromI8', '_ftime', 'avfilter_graph_create_filter', 'ImageList_DragMove', 'SendMessageW', 'ClosePrinter', 'NtOpenFile', 'GetEnhMetaFilePaletteEntries', 'GetCurrentProcess', 'exp', 'CreateEllipticRgn', 'RegCreateKeyExA', 'SwitchToThread', 'ShowWindow', 'FreeLibraryAndExitThread', 'CreatePopupMenu', 'EnumChildWindows', 'RoundRect', 'CharUpperA', 'av_calloc', 'GlobalHandle', 'strcspn', 'GetClassLongA', 'GetLengthSid', 'CheckDlgButton', 'av_usleep', 'av_pix_fmt_desc_get_id', 'VerQueryValueW', 'TranslateCharsetInfo', 'CreatePatternBrush', 'av_log_set_level', 'GetUserDefaultLCID', 'UnRegisterTypeLib', 'FindResourceA', 'CreateAcceleratorTableW', 'CreateIconIndirect', 'GetCommModemStatus', '_open', 'av_strerror', 'CharLowerA', 'SetPaletteEntries', 'TabbedTextOutA', '_errno', 'TlsSetValue', 'DrawEdge', 'ImmGetOpenStatus', '_i64tow_s', 'SymCleanup', 'PathStripToRootW', 'wcschr', 'memset', 'DocumentPropertiesA', 'WaitForMultipleObjects', 'SymFromAddr', 'GetSystemTimeAsFileTime', 'RegisterClassW', 'CopyFileA', 'LCIDToLocaleName', 'GetLogicalDrives', 'RegisterTypeLib', 'GetDesktopWindow', 'strcmp', 'wcstoul', 'GetEnvironmentVariableW', 'GetKeyNameTextA', 'RegCloseKey', 'GdipCreateBitmapFromScan0', 'DisconnectNamedPipe', 'FillRgn', 'DestroyCaret', 'closesocket', 'RtlLookupFunctionEntry', 'GetTextMetricsA', 'GetTempFileNameW', 'av_log_set_flags', 'GetFileVersionInfoSizeA', 'atoi', 'EscapeCommFunction', 'strcpy', 'ReleaseSemaphore', '__dllonexit', 'HeapSize', 'SetDlgItemTextW', 'SetStdHandle', 'SHCreateDirectoryExW', 'UnregisterApplicationRestart', 'QueryInformationJobObject', 'CoTaskMemRealloc', 'LookupPrivilegeValueW', 'HeapCreate', 'atan', 'OpenMutexW', 'CoGetClassObject', 'GetSecurityDescriptorGroup', 'CoInitializeEx', 'VkKeyScanA', 'GetOverlappedResult', 'av_get_channel_description', 'BCryptOpenAlgorithmProvider', 'CreateFileA', '_onexit', 'wcscpy_s', 'FormatMessageW', 'av_opt_eval_flags', 'PtVisible', 'avfilter_graph_set_auto_convert', 'MulDiv', 'HeapDestroy', 'BCryptGetProperty', '_c_exit', 'InterlockedCompareExchange', 'GetStringTypeExW', 'VirtualQuery', '_CorExeMain', 'GetThreadDesktop', 'GetTickCount', 'LoadImageW', 'SetWaitableTimer', 'GetQueuedCompletionStatusEx', 'SysAllocString', 'av_guess_format', 'JLI_GetStdArgc', 'SafeArrayGetLBound', 'GetFileSecurityW', 'av_get_cpu_flags', 'GetExitCodeProcess', 'CoTaskMemAlloc', 'av_frame_get_channels', 'GetStartupInfoW', 'GetCapture', 'GetDeviceCaps', 'VarBstrCmp', 'avformat_network_init', 'lstrcmpA', 'GetDoubleClickTime', 'ImageList_Read', 'getsockopt', 'SafeArrayPtrOfIndex', 'QueryThreadCycleTime', 'ImageList_GetBkColor', 'WinSqmAddToStream', 'GetEnhMetaFileHeader', 'CoCreateGuid', 'WideCharToMultiByte', '_adjust_fdiv', '__CxxFrameHandler', 'towupper', 'LockFileEx', '_strtoi64', 'SetTextColor', 'SysReAllocStringLen', 'PlaySoundA', 'GetVolumeInformationW', '_gmtime64', 'AppendMenuW', 'av_bprintf', 'RegisterClipboardFormatW', 'GlobalUnlock', 'GdipBitmapUnlockBits', 'SymGetSearchPathW', 'avutil_configuration', 'PathFileExistsW', 'GetEnvironmentStrings', 'SetupDiGetClassDevsW', 'DefMDIChildProcA', 'FileTimeToDosDateTime', 'InitializeSecurityDescriptor', 'MessageBeep', 'OleDestroyMenuDescriptor', 'SetViewportExtEx', 'InitializeSListHead', 'SetEndOfFile', 'HeapFree', 'OpenThemeData', 'StrCmpW', 'RegQueryValueW', 'avformat_write_header', 'CoResumeClassObjects', 'FindFirstVolumeA', 'Ellipse', 'IsAppThemed', 'SetWindowOrgEx', 'StartServiceCtrlDispatcherW', 'avio_printf', 'avcodec_get_frame_class', 'EtwEventUnregister', 'PathFileExistsA', 'av_get_pix_fmt_name', 'GetParent', 'av_force_cpu_flags', 'avfilter_graph_config', 'GetDlgCtrlID', 'wcsstr', 'log10', 'EnumCalendarInfoW', 'CoCreateInstance', 'EnumSystemLocalesW', 'CreateDirectoryW', 'GetFileSize', 'av_asprintf', '_get_initial_narrow_environment', 'NtQuerySystemInformation', 'av_get_default_channel_layout', 'modf', '_wstat64', 'av_find_input_format', 'GetTextExtentPoint32W', 'OpenPrinterA', '_resetstkoflw', 'avfilter_init_str', 'av_mul_q', 'WaitMessage', '_timezone', 'RtlFreeUnicodeString', 'strstr', 'av_get_token', 'SelectObject', 'av_pkt_dump_log2', 'av_buffer_create', 'KillTimer', 'K32GetProcessImageFileNameW', 'ImmDisableIME', 'GetTextExtentPoint32A', 'PostThreadMessageW', 'SetViewportOrgEx', 'MapVirtualKeyW', 'GetEnvironmentStringsW', 'tanh', 'fputs', 'ntohs', 'UnregisterClassW', 'avcodec_default_get_buffer2', 'SysAllocStringByteLen', 'TranslateMDISysAccel', 'GetSystemDirectoryW', 'DrawStateW', 'GetWindowLongPtrW', 'GetSaveFileNameW', 'InterlockedExchange', 'SetupDiCallClassInstaller', 'avio_closep', 'K32QueryWorkingSetEx', 'SetRect', 'lstrcatA', 'HeapAlloc', 'InsertMenuW', 'GetPhysicallyInstalledSystemMemory', 'ImageList_EndDrag', 'EndDeferWindowPos', 'avcodec_open2', 'CompareStringW', 'GetTokenInformation', 'GetCurrentThemeName', 'InitOnceBeginInitialize', 'GetClipboardOwner', 'av_pix_fmt_desc_get', 'AdjustWindowRectEx', 'FileTimeToSystemTime', 'avcodec_decode_subtitle2', 'QueryPerformanceCounter', 'SetErrorMode', 'MakeAbsoluteSD', 'SetClipboardData', 'avformat_open_input', 'av_strdup', 'ImageList_SetIconSize', '_wcsnicmp', 'memchr', 'lstrcmpiA', 'tan', 'GetSystemWow64DirectoryA', 'avfilter_graph_send_command', 'AddAccessDeniedAce', 'OpenClipboard', 'GetSystemDefaultUILanguage', 'SetupDiGetDeviceRegistryPropertyA', 'GetSidSubAuthority', 'avfilter_graph_free', 'AdjustTokenPrivileges', 'GetCPInfo', 'ToUnicodeEx', 'CoRegisterInitializeSpy', 'RestoreDC', 'GetQueuedCompletionStatus', 'avpriv_snprintf', 'GetModuleHandleA', 'avfilter_link_get_channels', 'AddAce', 'GetDIBits', 'InitializeProcThreadAttributeList', 'CreateSemaphoreW', 'TerminateThread', 'IntersectRect', 'UnregisterWaitEx', 'SafeArrayGetUBound', 'SHGetPathFromIDListA', 'TranslateMessage', 'lstrlenW', 'CopyRect', '_execute_onexit_table', 'IsDialogMessageW', 'CharLowerW', 'GetScrollInfo', 'MapVirtualKeyA', 'av_dict_copy', 'SuspendThread', 'InterlockedExchangeAdd', 'SHGetPathFromIDListW', 'ResumeThread', 'ResizePalette', 'FlushInstructionCache', 'GetDlgItemInt', 'InterlockedPushEntrySList', 'EtwEventRegister', 'CheckMenuItem', 'MoveFileW', 'UuidFromStringA', 'CM_Get_Parent', 'SetupDiOpenDeviceInfoA', 'PathStripToRootA', 'EnumThreadWindows', 'WSACleanup', 'BCryptHashData', 'RemovePropW', 'GdipGetImagePalette', '_vsnwprintf', 'av_image_copy_plane', 'SetEnvironmentVariableW', 'WakeAllConditionVariable', 'RegEnumKeyExA', '_fileno', 'PostQuitMessage', 'GetBitmapBits', 'av_log_get_level', 'PathIsUNCA', 'CloseServiceHandle', 'GetAce', 'SHGetFileInfoA', 'av_format_set_audio_codec', 'av_opt_get_int', 'swr_free', 'avcodec_encode_subtitle', 'RtlCaptureStackBackTrace', 'SetPropA', 'RegOpenKeyExW', 'htons', '__mb_cur_max', 'av_frame_unref', 'CommDlgExtendedError', 'av_opt_set_dict', 'ImageList_DrawEx', 'abort', 'JLI_Launch', 'GdipGetImageHeight', 'CopyAcceleratorTableW', 'CreateHalftonePalette', 'RegGetValueW', 'lstrcpyW', 'avformat_free_context', 'IUnknown_Release_Proxy', 'av_rescale_delta', 'SubtractRect', 'ReplaceFileW', 'GetEnhMetaFileBits', 'avio_open_dyn_buf', 'LPtoDP', 'RtlInitUnicodeString', '_strdup', 'IsWindow', 'av_iformat_next', 'avfilter_pad_count', 'GrayStringW', 'FlushFileBuffers', 'RpcStringFreeW', 'GetKeyState', 'ChangeServiceConfigA', 'av_realloc', 'ctime', 'time', 'InsertMenuA', '_mkdir', 'CMGetCachedDisks', 'GlobalAlloc', 'CharUpperBuffA', 'CM_Locate_DevNodeA', 'ceil', 'LookupAccountNameA', 'wcscpy', 'RegisterServiceCtrlHandlerExW', 'GetCharWidthA', 'av_log_set_callback', 'MessageBoxW', 'UnmapViewOfFile', 'CreateTimerQueue', 'avcodec_decode_video2', 'SetEnvironmentVariableA', 'DeviceIoControl', 'LineTo', 'GetLastError', 'SetConsoleScreenBufferSize', 'GetNearestPaletteIndex', 'DestroyWindow', 'DrawFrameControl', '__getmainargs', 'CreateNamedPipeW', 'FlsFree', 'fopen', 'av_free', 'FindFirstFileA', 'av_get_known_color_name', 'av_opt_get_key_value', 'MapVirtualKeyExA', 'IsProcessorFeaturePresent', '__stdio_common_vfprintf', '_seh_filter_dll', 'SetMenuDefaultItem', '__p__commode', 'PostMessageW', 'TranslateAcceleratorW', 'av_gettime_relative', 'DocumentPropertiesW', '__CxxFrameHandler3', 'SystemParametersInfoW', 'SetThreadErrorMode', 'wsprintfA', 'VirtualFreeEx', 'PtInRegion', 'CM_Get_Sibling', 'CreateMutexExW', 'RegisterClassA', 'SHBrowseForFolderW', 'avformat_network_deinit', 'fputc', 'RegOpenKeyExA', 'DispatchMessageW', '_vscwprintf', 'SetClassLongA', 'NtOpenKeyEx', 'bind', 'CM_Get_DevNode_Registry_PropertyA', 'StrRStrIW', 'CreateILockBytesOnHGlobal', 'InsertMenuItemA', 'RegisterClipboardFormatA', 'GetMenuState', 'CM_Get_DevNode_Status', 'DrawTextW', '_putenv', 'MapWindowPoints', 'ReadConsoleInputW', 'avfilter_link', 'ExtTextOutW', 'av_parse_video_rate', 'ReleaseCapture', 'av_parse_time', 'CoRevokeClassObject', 'GetPrivateProfileStringA', 'SetCursor', 'av_oformat_next', 'signal', 'GetTextFaceW', 'CreateDCW', 'wcsncpy', 'CreateEnvironmentBlock', 'RemovePropA', 'RegisterPowerSettingNotification', 'LoadBitmapA', 'SetFileSecurityW', 'strrchr', 'htonl', 'CreateCaret', 'InitializeFlatSB', 'GetSysColor', '?terminate@@YAXXZ', 'swscale_configuration', 'GetTextCharsetInfo', 'GetComputerNameExA', 'SetConsoleTextAttribute', 'memmove', 'vsprintf', 'GetFileInformationByHandle', 'CreateWindowExW', 'ReleaseDC', 'FindResourceW', 'LCMapStringA', 'SafeArrayUnaccessData', 'HideCaret', 'GdipSetInterpolationMode', 'CM_Request_Device_EjectA', 'av_expr_parse', 'FlatSB_GetScrollPos', 'GetFileAttributesA', '_cexit', 'vfprintf', 'lstrcpyA', 'GetStringTypeA', 'GetDCOrgEx', 'ActivateKeyboardLayout', 'RegNotifyChangeKeyValue', 'avio_open2', 'gethostname', 'SetupDiEnumDeviceInterfaces', 'GetConsoleScreenBufferInfo', 'av_strtok', 'WinHelpW', 'FlsGetValue', 'GetCurrentThreadId', 'CoInitialize', 'TextOutA', 'GetDateFormatW', 'asin', 'MakeSelfRelativeSD', 'GetProcessId', 'GetThemeColor', 'RtlPcToFileHeader', 'CreateRectRgn', 'RegEnumKeyExW', 'WaitForSingleObjectEx', 'SleepConditionVariableSRW', 'GetConsoleOutputCP', 'OleIsCurrentClipboard', 'SystemTimeToTzSpecificLocalTime', 'WSAStartup', 'FindNextVolumeA', 'GetNextDlgTabItem', 'RegEnumKeyW', 'UuidHash', 'OleFlushClipboard', 'CopyFileW', 'av_bitstream_filter_next', 'av_buffersrc_get_nb_failed_requests', 'DestroyAcceleratorTable', '_initialize_narrow_environment', 'GetUserObjectInformationW', 'SetWinMetaFileBits', 'avfilter_configuration', 'FormatMessageA', 'ExitProcess', 'IsRectEmpty', '_isatty', 'GetProductInfo', 'av_get_channel_layout_nb_channels', '_hypot', 'RegSetValueExW', 'OpenEventW', '_wopen', 'av_expr_eval', 'SetClassLongPtrA', 'strlen', 'InvalidateRect', 'av_get_pix_fmt', 'sinh', 'pow', 'inet_addr', 'av_free_packet', 'av_mallocz', '_register_thread_local_exe_atexit_callback', 'VirtualAlloc', 'GetWindowTextLengthW', 'CoInitializeSecurity', 'ImmReleaseContext', 'avformat_alloc_context', 'av_stream_get_parser', 'ModifyMenuA', 'ImageList_Write', 'av_parser_close', 'GetLongPathNameW', 'VirtualFree', 'avfilter_pad_get_type', 'frexp', 'GlobalLock', 'ChangeTimerQueueTimer', 'ReportEventW', 'GetFileVersionInfoExW', 'ImageList_DragEnter', 'PathFindExtensionA', 'LoadIconA', 'SetErrorInfo', 'ShellExecuteExA', 'EtwEventWriteTransfer', 'av_buffersink_set_frame_size', 'RegDeleteKeyExW', 'GetViewportOrgEx', 'SetupDiGetDeviceInfoListDetailA', 'BCryptFinishHash', 'GetPrivateProfileIntA', 'SetWindowPos', 'GetPrivateProfileIntW', 'GdipCreateFromHDC', 'DebugBreak', 'avfilter_graph_alloc_filter', 'setlocale', 'ShellExecuteExW', '__p__fmode', 'SetConsoleTitleW', 'swr_get_class', 'GetMenuItemInfoA', 'GetMenuItemInfoW', 'send', 'GetMessageTime', 'av_codec_is_encoder', 'TextOutW', 'PowerDuplicateScheme', 'GetStdHandle', 'av_packet_get_side_data', 'CharNextW', 'ftell', 'FreeLibrary', 'OleUIBusyW', 'av_format_set_video_codec', 'remove', 'SetCaretPos', 'iswspace', 'TlsAlloc', 'avdevice_register_all', 'IsBrowserProcess', 'SysAllocStringLen', 'GetConsoleMode', 'GetBkColor', 'BitBlt', 'IsWindowVisible', 'OpenEventA', 'GetClassInfoA', 'UnhandledExceptionFilter', 'IsMenu', 'VerSetConditionMask', 'ResolveDelayLoadedAPI', 'OleRun', 'SetWindowsHookExA', 'av_bprint_chars', 'OleCreateFontIndirect', 'SHBrowseForFolderA', 'DrawTextExW', 'LoadKeyboardLayoutW', 'CreateAcceleratorTableA', 'CoSuspendClassObjects', 'DragQueryFileW', 'CoDisconnectObject', 'Sleep', 'GrayStringA', 'InitCommonControlsEx', 'PrefetchVirtualMemory', 'GetShortPathNameW', 'RedrawWindow', '_CxxThrowException', 'GetBoundsRect', 'LockResource', 'av_get_channel_name', '__setusermatherr', 'GetLogicalDriveStringsW', 'FreeResource', 'GetLocaleInfoA', 'OffsetRect', 'av_pix_fmt_desc_next', 'RemoveVectoredExceptionHandler', 'lstrcmpW', 'SHGetKnownFolderPath', 'GetNearestColor', 'memcmp', 'GetProcessHeap', 'MsgWaitForMultipleObjects', 'av_get_sample_fmt', 'RtlCaptureContext', 'ImageList_GetImageCount', 'GetIconInfo', 'SetEvent', 'WriteConsoleInputA', 'CoTaskMemFree', 'ReadConsoleInputA', 'av_opt_ptr', 'DecodePointer', 'DefWindowProcA', 'DrawThemeParentBackground', 'GetObjectW', 'ImageList_Add', 'Rectangle', 'SHGetFolderPathW', 'SetStretchBltMode', 'OpenSCManagerW', 'GetProcessTimes', 'UnregisterClassA', 'SetROP2', 'GetThreadId', 'av_codec_is_decoder', 'ExcludeClipRect', 'WaitForInputIdle', 'DrawFocusRect', 'GetWindowLongW', 'CloseClipboard', 'GetKeyboardLayoutNameW', 'SetSecurityDescriptorDacl', 'GetProcessMitigationPolicy', 'SetFileAttributesA', 'cos', 'SetCurrentDirectoryW', 'RectVisible', 'FreeEnvironmentStringsW', 'EqualSid', 'InterlockedDecrement', 'LCMapStringW', 'CreateFileW', 'printf', 'GetTextCharset', 'av_frame_get_best_effort_timestamp', 'sscanf', 'FindNextFileW', 'SetProcessPriorityBoost', 'StretchDIBits', 'ScaleWindowExtEx', 'VarUI4FromStr', 'EncodePointer', 'wcscat_s', '_initterm_e', 'GetInstallDetailsPayload', 'K32EnumProcessModules', 'RegisterApplicationRestart', 'ReadFile', 'CreateWaitableTimerExW', 'FlatSB_SetScrollInfo', 'GetWindowLongA', 'SetupDiGetDeviceRegistryPropertyW', 'TerminateJobObject', 'GetLayout', 'BCryptCloseAlgorithmProvider', '_fmode', 'CreateMenu', '_XcptFilter', '__p___argv', 'GetFileSizeEx', 'FindVolumeClose', 'avio_close', 'FileTimeToLocalFileTime', 'SendDlgItemMessageA', 'OffsetWindowOrgEx', 'LoadImageA', 'LoadCursorW', 'SetConsoleCtrlHandler', 'LoadAcceleratorsW', 'EnterCriticalSection', 'ResetEvent', 'ReleaseMutex', 'GetShortPathNameA', 'IsChild', 'avcodec_get_name', 'GetModuleHandleW', 'UnhookWinEvent', '_set_new_mode', '_configthreadlocale', 'GetThemePartSize', 'GetSystemTime', 'GetClassLongPtrA', 'GetLogicalProcessorInformation', 'MoveFileA', 'SetProcessDPIAware', 'avfilter_graph_queue_command', 'av_packet_new_side_data', 'avcodec_descriptor_get_by_name', 'GetOpenFileNameA', 'SetTimer', 'GetCommState', 'LoadLibraryA', 'EqualRect', 'GetFullPathNameW', 'RegCopyTreeW', 'FindWindowExW', 'GetFileAttributesExA', 'DuplicateTokenEx', 'LoadCursorA', 'RtlPublishWnfStateData', 'PowerSetActiveScheme', 'swprintf', 'RtlVirtualUnwind', 'SetupDiGetDeviceInstanceIdA', 'K32GetModuleFileNameExW', 'wcslen', 'GdipGetImagePaletteSize', 'RegisterWindowMessageW', 'GetFileAttributesW', 'avformat_version', 'MappingFreeServices', 'ImmDisableTextFrameService', 'WSAAsyncSelect', 'GetCommandLineW', 'avformat_seek_file', '??0exception@@QEAA@AEBQEBDH@Z', 'RegFlushKey', 'malloc', 'EnableWindow', 'CreateEventA', 'UpdateLayeredWindow', 'GetObjectType', 'av_frame_get_buffer', 'WerSetFlags', 'MoveFileExW', 'SetDefaultDllDirectories', 'K32GetModuleBaseNameW', 'UnrealizeObject', 'PowerGetActiveScheme', 'PathIsUNCW', 'ConnectNamedPipe', 'OffsetRgn', 'SetupDiSetClassInstallParamsA', 'GetUserNameA', 'CreateRoundRectRgn', 'RegCreateKeyExW', 'fmod', 'RtlFormatCurrentUserKeyPath', 'av_log', 'mktime', 'FlatSB_GetScrollInfo', 'UnregisterDeviceNotification', '_time64', 'GetProfileIntW', 'UnpackDDElParam', 'PathStripPathW', '_fpreset', 'GetComputerNameW', 'SetWindowLongA', 'StrStrIA', 'MappingRecognizeText', 'SetFocus', 'GetCursor', 'SendMessageA', 'GetMapMode', 'avcodec_version', 'UnregisterWait', 'av_get_channel_layout_string', 'GetComputerNameA', 'SetWindowLongPtrW', 'CopyIcon', 'GetFullPathNameA', 'Polygon', 'avcodec_alloc_context3', 'SetPixelV', 'GetModuleFileNameA', 'IsThemeBackgroundPartiallyTransparent', 'ReleaseSRWLockShared', 'SetBrushOrgEx', 'GetPrivateProfileStringW', 'GetMenuItemCount', '__C_specific_handler', '_wtoi64', 'GetLargestConsoleWindowSize', 'av_codec_next', 'ImageList_BeginDrag', 'av_log_format_line', 'CopyAcceleratorTableA', 'av_dump_format', 'K32GetPerformanceInfo', '_amsg_exit', 'strcoll', 'GetUserDefaultLocaleName', 'RtlUnwindEx', 'StretchBlt', 'GetClassLongPtrW', 'FlatSB_SetScrollPos', 'LocalFileTimeToFileTime', 'PathAppendW', 'SetMenuItemInfoW', 'FlushViewOfFile', 'socket', 'DoDragDrop', 'CreateRectRgnIndirect', '??1exception@@UEAA@XZ', 'RaiseException', 'GetWindowsDirectoryW', 'AddAccessAllowedAce', 'SetConsoleCursorPosition', 'GetDiskFreeSpaceW', '_fdopen', 'RaiseFailFastException', 'CloseDesktop', 'GetSidLengthRequired', 'SafeArrayCreate', 'DefFrameProcW', 'avcodec_copy_context', 'ExtTextOutA', 'UnlockFile', 'GdipCreateBitmapFromStream', 'IsDBCSLeadByte', 'LoadCursorFromFileA', 'BCryptDestroyHash', 'GdipFree', '_setmode', 'av_strstart', 'GetMonitorInfoA', 'sprintf', 'SHGetMalloc', 'OleTranslateAccelerator', 'AlphaBlend', 'swr_alloc', 'GdipAlloc', 'CreateFontW', 'AddVectoredExceptionHandler', 'GetModuleBaseNameW', 'avformat_get_class', 'MonitorFromPoint', 'Polyline', 'GetCurrentDirectoryW', 'RealizePalette', 'av_buffer_default_free', '_except_handler3', 'GetErrorMode', 'DrawMenuBar', 'avfilter_get_by_name', 'SetThreadInformation', 'MappingFreePropertyBag', 'PowerWriteFriendlyName', 'GetVolumePathNamesForVolumeNameA', 'HeapQueryInformation', 'LoadMenuA', '??0exception@@QEAA@XZ', 'av_realloc_f', 'wcscmp', 'SetActiveWindow', 'SymInitialize', 'LockWindowUpdate', 'av_frame_copy_props', 'OpenProcess', 'GetFocus', '_fullpath', 'getpeername', 'CompareFileTime', 'av_parser_init', '_get_osfhandle', 'SetThreadPriority', 'PowerWriteACValueIndex', 'av_opt_child_class_next', 'av_opt_find', 'RegisterDragDrop', 'QueryDepthSList', 'MSEGetAllDriveInfo', 'GetFileVersionInfoW', 'CreateDirectoryA', '_set_fmode', 'GetSystemDirectoryA', 'strpbrk', 'avcodec_find_encoder_by_name', '_crt_atexit', 'connect', 'ImageList_SetBkColor', 'SHGetDesktopFolder', 'SetThreadContext', 'BringWindowToTop', 'CreatePolygonRgn', 'terminate', 'ProcessIdToSessionId', '_wcstoi64', 'CharUpperBuffW', 'av_fopen_utf8', 'DragQueryFileA', 'SetScrollRange', 'EnumSystemLocalesEx', 'swresample_version', 'wcspbrk', 'OleCreateMenuDescriptor', 'avio_flush', 'OpenProcessToken', 'av_dict_set', 'ReadConsoleOutputW', 'tolower', 'TryAcquireSRWLockExclusive', 'av_parser_change', 'GetClientRect', 'InitOnceExecuteOnce', 'DeleteDC', '_controlfp', 'av_find_nearest_q_idx', 'localtime', 'av_freep', 'CopyMetaFileA', 'av_get_bits_per_pixel', 'vswprintf_s', 'SetupDiDestroyDeviceInfoList', 'OleGetClipboard', 'SetScrollPos', 'RoUninitialize', 'GetProcessWindowStation', 'SetUnhandledExceptionFilter', 'ImageList_SetImageCount', 'GetSecurityDescriptorSacl', '??0exception@@QEAA@AEBV0@@Z', 'GetDIBColorTable', 'IUnknown_QueryInterface_Proxy', 'TranslateAcceleratorA', 'CloseThreadpoolTimer', 'av_get_sample_fmt_string', 'SearchPathW', 'RegisterServiceCtrlHandlerW', 'EnumDisplayMonitors', 'GdipDrawImageI', 'FlatSB_SetScrollProp', 'ToAscii', 'VariantClear', 'NtClose', 'timeEndPeriod', 'GetClassNameW', 'ReuseDDElParam', 'CryptReleaseContext', 'av_codec_get_lowres', 'free', 'CreateWindowExA', 'avfilter_next', 'SafeArrayAccessData', 'ldexp', 'SetPixel', 'GetProcessHeaps', 'CreateRemoteThread', 'av_opt_set_int', 'avfilter_version', 'DefFrameProcA', 'GetDriveTypeW', 'acos', 'avformat_match_stream_specifier', 'avdevice_configuration', 'GetVolumeInformationA', 'DefMDIChildProcW', '?what@exception@@UEBAPEBDXZ', 'av_dict_get', 'GetFileVersionInfoA', 'SetScrollInfo', 'IsCharLowerW', 'GetDC', 'DeleteFileW', '_itow_s', 'GetVolumeNameForVolumeMountPointA', 'SetVolumeLabelA', 'avio_close_dyn_buf', 'CreateProcessW', 'SymSetOptions', 'PlaySoundW', 'RegEnumKeyA', 'CompareStringA', 'GetTimeZoneInformation', 'LockFile', 'GetFileVersionInfoSizeW', 'IsWindowUnicode', 'GetCurrentDirectoryA', 'GetWindowTextW', 'OpenThreadToken', 'av_read_frame', 'sws_isSupportedInput', 'HeapSetInformation', 'RealGetWindowClassW', '_get_narrow_winmain_command_line', 'CreateDialogIndirectParamA', '_register_onexit_function', 'GlobalFlags', 'RegisterClassExA', 'av_stream_get_end_pts', 'CreateDIBitmap', 'Process32FirstW', 'SetFilePointerEx', 'RegEnumValueW', 'SetPolyFillMode', 'avutil_version', 'UnregisterPowerSettingNotification', 'CheckTokenMembership', 'fwrite', 'Arc', 'ScrollWindowEx', 'CM_Get_Device_ID_ExA', 'InitializeSid', 'CreateBindCtx', '_exit', 'DrawTextA', 'EmptyClipboard', 'fgetc', 'CM_Request_Device_EjectW', 'CallNextHookEx', 'av_reduce', 'CloseHandle', 'sws_get_class', 'Escape', 'TrackPopupMenu', 'GetShellWindow', 'CreateActCtxW', 'av_opt_show2', 'SystemParametersInfoA', 'GetProfileIntA', 'CoMarshalInterThreadInterfaceInStream', 'RemoveDirectoryW', 'CLSIDFromString', '_acmdln', 'PtInRect', 'CoFreeUnusedLibraries', 'LocalAlloc', 'MoveToEx', 'av_buffersrc_add_ref', 'avio_seek', 'GetLogicalDriveStringsA', 'VirtualProtectEx', 'InitializeCriticalSectionAndSpinCount', 'GdipGetImageGraphicsContext', 'avfilter_inout_free', 'CreateHatchBrush', 'listen', 'ExtFloodFill', 'SetRectRgn', 'WaitForSingleObject', 'ScrollWindow', 'av_sdp_create', 'EnableMenuItem', 'StringFromCLSID', 'CancelIo', 'GetACP', 'ImageList_GetIconSize', 'AssignProcessToJobObject', 'GetTextFaceA', '??1type_info@@UEAA@XZ', 'StgCreateDocfileOnILockBytes', 'av_interleaved_write_frame', 'ImageList_Create', 'CallWindowProcW', 'LoadResource', '__acrt_iob_func', 'GetLastActivePopup', 'avpicture_fill', 'SetMapMode', 'WinHelpA', 'CharUpperW', 'fread', 'avformat_close_input', 'TlsFree', 'SetCursorPos', 'LoadStringW', 'GlobalGetAtomNameA', 'K32EnumProcesses', 'avformat_configuration', 'WriteConsoleW', 'avfilter_graph_request_oldest', 'SetThreadpoolTimer', 'DelayLoadFailureHook', 'StrChrW', 'ioctlsocket', 'GetSystemPaletteEntries', 'gethostbyaddr', 'GlobalAddAtomW', 'FillRect', 'GetConsoleCP', 'GetUserNameW', 'GetStockObject', 'GetFileAttributesExW', 'IsDebuggerPresent', 'UpdateWindow', 'VariantCopy', 'av_get_channel_layout', '_set_app_type', 'SysStringByteLen', 'SetWindowLongPtrA', 'GetAclInformation', 'ImmSetCompositionWindow', 'av_strlcat', 'FrameRgn', '_tzset', 'WriteFile', 'DestroyMenu', 'GetMenu', 'GetDiskFreeSpaceA', 'strcat', 'TransparentBlt', 'FindActCtxSectionStringW', 'Process32NextW', 'WriteConsoleInputW', 'SetThreadLocale', 'Wow64GetThreadContext', 'InitOnceComplete', 'WriteConsoleOutputW', 'EnumFontFamiliesExA', 'ntohl', 'ImageList_GetDragImage', 'GetThreadTimes', 'GetKeyboardLayoutList', 'DeleteAce', 'GetFontData', 'av_strcasecmp', 'VirtualProtect', 'IsWow64Process', 'NotifyWinEvent', 'CLSIDFromProgID', 'SendInput', 'GetWindowThreadProcessId', 'av_codec_get_tag2', 'strtok', 'GetSubMenu', 'GetWindowRect', 'ModifyMenuW', 'GetSystemInfo', 'ImageList_Remove', 'GetCursorPos', 'HeapReAlloc', 'GetExitCodeThread', '_callnewh', 'CreateStdAccessibleObject', 'SetWindowTextA', 'MapVirtualKeyExW', 'SetupDiEnumDeviceInfo', 'UnhookWindowsHookEx', 'RegQueryInfoKeyW', 'MessageBoxA', 'GetSystemPowerStatus', 'SetWindowExtEx', 'wcsncmp', '_configure_narrow_argv', 'sws_isSupportedOutput', 'OffsetClipRgn', 'av_packet_split_side_data', 'GetFileTime', 'RegDeleteKeyA', 'GetTempPathW', '__set_app_type', 'WritePrivateProfileStringW', 'MapDialogRect', 'WriteConsoleA', 'GetNextDlgGroupItem', 'VirtualAllocEx', 'CreateFileMoniker', 'QueryPerformanceFrequency', 'VariantChangeType', 'FlsSetValue', 'SymSetSearchPathW', 'TabbedTextOutW', 'K32GetProcessMemoryInfo', 'LresultFromObject', 'OffsetViewportOrgEx', 'GetAncestor', 'CreateIconFromResource', 'GetModuleHandleExW', 'GetThreadContext', 'av_filename_number_test', 'av_get_media_type_string', 'CreateServiceW', 'av_bprint_finalize', 'avdevice_version', 'SetPriorityClass', 'ToAsciiEx', 'GetForegroundWindow', 'SetConsoleMode', 'SetRectEmpty', '_wcmdln', 'SetMenu', 'NtQueryValueKey', 'ScaleViewportExtEx', 'GetProcAddress', 'GetMessageW', 'GetThreadPriority', 'av_get_picture_type_char', '_initialize_onexit_table', 'UuidCreateSequential', 'TlsGetValue', 'StrFormatKBSizeW', 'CreateConsoleScreenBuffer', 'GetMenuStringA', 'GdiplusStartup', '_vsnprintf_s', 'CryptGenRandom', 'InterlockedPopEntrySList', 'EndPaint', 'RegisterWindowMessageA', 'RegDeleteKeyW', 'SymGetLineFromAddr64', 'IsCharLowerA', 'RegisterDeviceNotificationW', 'strtoul', 'WakeConditionVariable', 'GetWindow', 'av_log_ask_for_sample', 'ReadConsoleA', '__stdio_common_vsprintf', 'UpdateProcThreadAttribute', '_stricmp', 'InitializeSRWLock', 'GetTextExtentPointA', 'avcodec_encode_video2', 'GetSystemMetrics', 'DrawThemeText', 'OpenSCManagerA', 'DuplicateHandle', 'AcquireSRWLockShared', 'CreatePipe', 'CreateDesktopW', 'GetTempPathA', 'GetWindowTheme', 'SizeofResource', 'av_parse_video_size', 'SysStringLen', 'GetUserDefaultUILanguage', 'GetProcessAffinityMask', 'DeleteService', 'InitializeCriticalSectionEx', 'PostMessageA', 'SelectPalette', 'CoRevokeInitializeSpy', 'SetSecurityDescriptorOwner', 'RectInRegion', 'PeekMessageA', 'GetKeyboardState', 'GetEnvironmentVariableA', 'DestroyCursor', 'GetTextColor', 'getservbyname', 'FindWindowW', 'OleInitialize', 'SearchPathA', 'AddVectoredContinueHandler', 'GetConsoleWindow', 'RegQueryValueExW', 'SHGetFileInfoW', 'GetRunningObjectTable', 'SetSecurityDescriptorGroup', 'strspn', 'EnumWindows', 'GlobalFindAtomW', 'GetConsoleProcessList', 'QueryServiceStatusEx', 'GetWindowPlacement', 'PathRemoveFileSpecW', 'SetFileTime', 'CreateBitmap', 'InterlockedFlushSList', 'sqrt', 'av_codec_get_id', 'inet_ntoa', 'VariantInit', 'InflateRect', 'RegQueryValueExA', 'SysFreeString', 'GetOpenFileNameW', 'AllowSetForegroundWindow', 'GetMenuDefaultItem', 'ExpandEnvironmentStringsW', 'GetBkMode', 'CMPackageRemove', 'av_buffersink_get_frame_flags', 'ReleaseSRWLockExclusive', 'BuildCommDCBW', 'GetStartupInfoA', 'GdipDrawImageRectI', 'avio_enum_protocols', 'swprintf_s', 'strncmp', 'wcsrchr', 'wcsncpy_s', 'DestroyIcon', 'K32GetModuleInformation', 'IUnknown_AddRef_Proxy', 'LoadLibraryExA', 'GetScrollPos', 'SelectClipRgn', 'TransactNamedPipe', 'DrawTextExA', '_initterm', '_isctype', 'CryptAcquireContextW', 'GetMonitorInfoW', 'DeleteFileA', 'UnlockFileEx', 'DeleteEnhMetaFile', 'GetPropA', 'CreateXmlReader', 'RegDeleteValueA', 'GetPixel', 'log', 'LeaveCriticalSection', 'av_rescale_q', 'UuidCreate', 'CreateFileMappingW', '_endthreadex', 'avcodec_descriptor_next', 'SetProcessWindowStation', 'DispatchMessageA', 'CreateProcessA', 'CreateIcon', 'GetLocaleInfoW', 'InitializeAcl', 'wcstombs', 'InterlockedIncrement', 'GetScrollRange', 'GetFileType', 'gethostbyname', 'av_opt_eval_int', 'GlobalFindAtomA', 'UuidToStringW', 'avio_write', '_stricoll', 'avformat_new_stream', 'CreateToolhelp32Snapshot', 'SafeArrayCreateVector', '__std_type_info_destroy_list', 'LocalReAlloc', 'wcscat', '_purecall', 'PatBlt', 'wcstol', '_ui64tow_s', 'CreateMutexW', 'strerror', 'OpenSemaphoreW', 'GetCurrentThread', 'LoadBitmapW', 'GetTimeFormatW', 'GetClipBox', 'SetupDiGetDeviceInterfaceDetailA', 'GdipCloneImage', 'GetSystemDefaultLCID', 'avcodec_descriptor_get', 'IsDialogMessageA', 'SetWindowTextW', 'FindFirstFileW', 'CreateThread', 'CreateTimerQueueTimer', 'SignalChromeElf', 'CoUninitialize', 'av_dict_free', 'swresample_configuration', 'GetClassInfoExA', '_strnicmp', 'SHAppBarMessage', '_crt_at_quick_exit', 'av_bitstream_filter_filter', 'GetCurrentPositionEx', 'NdrOleAllocate', 'VerQueryValueA', '_itow', 'av_buffersink_get_frame_rate', 'FillConsoleOutputAttribute', 'GetCommandLineA', 'GetViewportExtEx', 'CMUnfilterNonPresentDrives', 'LoadLibraryW', 'SetupDiGetDevicePropertyW', 'CreateFontIndirectW', 'qsort', 'av_guess_codec', 'GdipDeleteGraphics', 'strtol', 'DrawIcon', 'NdrStubForwardingFunction', 'Pie', 'av_get_sample_fmt_name', 'GetFileVersionInfoSizeExW', 'CreateSolidBrush', 'IsAccelerator', 'CharNextA', 'fseek', 'getenv', 'ShowOwnedPopups', '_wfopen', 'SetThreadDesktop', 'OpenServiceW', 'GetSidIdentifierAuthority', 'CloseThemeData', 'IsValidSid', 'av_codec_set_chroma_intra_matrix', 'VariantTimeToSystemTime', '_pctype', 'PeekNamedPipe', 'UnionRect', 'GetCharWidthW', 'strncat', 'avio_r8', 'sws_freeContext', 'RegDeleteTreeW', 'IsValidCodePage', 'StrFormatKBSizeA', 'OleLockRunning', 'ImmGetCompositionStringA', 'EnableScrollBar', 'avio_size', 'av_bprint_init', 'sws_getContext', 'EnumFontFamiliesW', 'av_get_audio_frame_duration', '??0exception@@QEAA@AEBQEBD@Z', 'GetMessageA', 'ReadConsoleW', 'avio_w8', 'strchr', 'avcodec_configuration', 'InitializeCriticalSection', 'av_parse_cpu_caps', 'EnumProcessModules', 'ShowScrollBar', 'CharNextExA', 'lstrlenA', 'WerGetFlags', 'SetEnhMetaFileBits', 'GetDCEx', 'SetWindowContextHelpId', 'avcodec_find_decoder_by_name', 'avfilter_get_class', 'CM_Get_Device_IDA', 'LoadAcceleratorsA', 'CreateItemMoniker', 'PathRemoveExtensionA', 'CreatePenIndirect', 'SetLastError', 'GetWindowsDirectoryA', 'BuildCommDCBA', 'cosh', 'RtlUnwind', 'CreateProcessAsUserW', 'avfilter_graph_alloc', 'WriteProcessMemory', 'DeleteMenu', 'PlayEnhMetaFile', 'av_init_packet', 'SetMenuItemBitmaps', 'av_add_q', 'UpdateColors', 'SetFilePointer', 'WaitForMultipleObjectsEx', 'calloc', 'av_guess_frame_rate', 'GlobalFree', 'avcodec_decode_audio4', 'SetBkColor', 'FindFirstFileExW', 'PeekMessageW', 'GetUserDefaultLangID', 'timeBeginPeriod', 'GetClassInfoExW', 'PropVariantClear', 'avfilter_register_all', 'IntersectClipRect', 'avio_find_protocol_name', 'memcpy', 'GetOEMCP', 'SafeArrayDestroy', 'GetModuleFileNameW', 'SetupDiSetClassInstallParamsW', 'CombineRgn', 'avio_open', 'av_strlcatf', 'DeferWindowPos', 'DrawThemeBackground', 'SignalInitializeCrashReporting', '__wgetmainargs', 'ClearCommError', 'InvertRect', 'avformat_alloc_output_context2', 'GdiplusShutdown', '_TrackMouseEvent', 'WaitNamedPipeW', 'RegSetValueExA', 'LoadIconW', 'GetMenuItemID', 'GetCurrentProcessorNumber', 'WindowFromPoint', 'GetNumaHighestNodeNumber', 'avfilter_graph_parse2', 'CreateCompatibleDC', 'PostThreadMessageA', 'gmtime', 'GetComputerNameExW', 'OleDuplicateData', 'WSAGetLastError', 'PowerWriteDescription', 'SetDIBColorTable', 'av_max_alloc', 'CreateJobObjectW', 'MonitorFromWindow', 'GetNativeSystemInfo', 'GetUpdateRect', 'av_malloc', 'PostQueuedCompletionStatus', 'ImageList_Destroy', 'avcodec_close', 'LocaleNameToLCID', 'SetupDiGetClassDevsA', 'avcodec_encode_audio2', 'avio_read', 'SetProcessAffinityMask', 'ImageList_DragLeave', 'FlsAlloc', 'SafeArrayUnlock', 'ScreenToClient', 'ImageList_Draw', 'GetAsyncKeyState', 'CoGetInterfaceAndReleaseStream', 'GetClipboardData', 'sin', 'CoRegisterClassObject', 'DefWindowProcW', 'SetEntriesInAclW', 'memmove_s', 'SetWinEventHook', 'av_rescale', 'RemoveMenu', 'SignalObjectAndWait', 'ActivateActCtx', 'NdrOleFree', 'CoLockObjectExternal', 'avcodec_free_context', 'av_write_trailer', 'ConvertDefaultLocale', 'PathFindExtensionW', 'LoadTypeLib', 'CreateEventW', 'RegisterWaitForSingleObject', 'avcodec_get_class', 'VkKeyScanW', 'fclose', 'CreateWindowStationW', 'GetSecurityDescriptorControl', 'getsockname', 'FindClose', 'TerminateProcess', 'StringFromGUID2', 'RevokeDragDrop', 'SetTextAlign', 'Chord', 'DeregisterEventSource', 'IsValidLocale', 'SetCapture', 'DeleteCriticalSection', 'CreateIoCompletionPort', 'MaskBlt', 'MapViewOfFile', 'BeginDeferWindowPos', 'LoadMenuW', 'DosDateTimeToFileTime', 'LoadRegTypeLib', 'GetClassInfoW', 'av_opt_set', 'CopySid', 'GdipGetImagePixelFormat', 'CreatePalette', 'CreateThreadpoolTimer', 'GetKeyboardType'}\n",
      "Failed with file:  /mnt/c/$RECYCLE.BIN/S-1-5-21-2210480649-2313652220-1945043235-1001/$REY8PR4/Image to Speech/Library/PackageCache/com.unity.ide.visualstudio@2.0.22/Editor/COMIntegration/Release/COMIntegration.exe\n",
      "Failed with file:  /mnt/c/AI_RecycleBin/{AA8E5A88-AA90-4DB6-B0A5-9F9C187FAA16}/138/XSplit.Video.Editor.exe\n",
      "Failed with file:  /mnt/c/AI_RecycleBin/{AA8E5A88-AA90-4DB6-B0A5-9F9C187FAA16}/144/XSplitCleanup2x64.exe\n",
      "Failed with file:  /mnt/c/AI_RecycleBin/{AA8E5A88-AA90-4DB6-B0A5-9F9C187FAA16}/160/xsplit_updater.exe\n",
      "Failed with file:  /mnt/c/Program Files/7-Zip/7zFM.exe\n",
      "Failed with file:  /mnt/c/Program Files/7-Zip/7zG.exe\n",
      "Failed with file:  /mnt/c/Program Files/Angry IP Scanner/uninstall.exe\n",
      "Failed with file:  /mnt/c/Program Files/ASUS/AMDA/Io/AsIoIns.exe\n",
      "Failed with file:  /mnt/c/Program Files/ASUS/AMDA/Io/AsIoUnins.exe\n",
      "Failed with file:  /mnt/c/Program Files/BraveSoftware/Brave-Browser/Application/135.1.77.95/BraveVpnWireguardService/brave_vpn_wireguard_service.exe\n",
      "Failed with file:  /mnt/c/Program Files/BraveSoftware/Brave-Browser/Application/135.1.77.95/Installer/chrmstp.exe\n",
      "Failed with file:  /mnt/c/Program Files/BraveSoftware/Brave-Browser/Application/135.1.77.95/Installer/setup.exe\n",
      "Failed with file:  /mnt/c/Program Files/BraveSoftware/Brave-Browser/Application/135.1.77.95/brave_vpn_helper.exe\n",
      "Failed with file:  /mnt/c/Program Files/BraveSoftware/Brave-Browser/Application/135.1.77.95/elevation_service.exe\n",
      "Failed with file:  /mnt/c/Program Files/BraveSoftware/Brave-Browser/Application/135.1.77.95/notification_helper.exe\n",
      "Failed with file:  /mnt/c/Program Files/Common Files/microsoft shared/ink/mip.exe\n",
      "Failed with file:  /mnt/c/Program Files/Common Files/microsoft shared/ink/ShapeCollector.exe\n",
      "Failed with file:  /mnt/c/Program Files/Common Files/microsoft shared/MSInfo/msinfo32.exe\n",
      "Failed with file:  /mnt/c/Program Files/Common Files/Oracle/Java/javapath_target_78079406/java.exe\n",
      "Failed with file:  /mnt/c/Program Files/Common Files/Oracle/Java/javapath_target_78079406/javac.exe\n",
      "Failed with file:  /mnt/c/Program Files/Common Files/Oracle/Java/javapath_target_78079406/javaw.exe\n",
      "Failed with file:  /mnt/c/Program Files/Common Files/Oracle/Java/javapath_target_78079406/jshell.exe\n",
      "Failed with file:  /mnt/c/Program Files/Common Files/Oracle/Java/javatmp/java.exe\n",
      "Failed with file:  /mnt/c/Program Files/Common Files/Oracle/Java/javatmp/javaw.exe\n",
      "Failed with file:  /mnt/c/Program Files/DIFX/13E1C34D33D4F94F/pololu-cp2102-setup-x64.exe\n",
      "Failed with file:  /mnt/c/Program Files/DIFX/4A7292F75FEBBD3C/dpinst.exe\n",
      "Failed with file:  /mnt/c/Program Files/DIFX/4A7292F75FEBBD3C/dpinst_x64.exe\n",
      "Failed with file:  /mnt/c/Program Files/DIFX/8730326CFC0D32D8/dpinst-amd64.exe\n",
      "Failed with file:  /mnt/c/Program Files/DIFX/B60D1297D6D5E54C/dpinst_amd64.exe\n",
      "Failed with file:  /mnt/c/Program Files/DIFX/B6633336093235AA/DPinst64.exe\n",
      "Failed with file:  /mnt/c/Program Files/DIFX/ED3A003EBE2033AD/dpinst_x64.exe\n",
      "Failed with file:  /mnt/c/Program Files/DIFX/F4092DA208C2C970/DPInst64.exe\n",
      "Failed with file:  /mnt/c/Program Files/Docker/Docker/frontend/Docker Desktop.exe\n",
      "IDF:  {'ImmGetCompositionStringW': 5.058893689053568, 'SetWindowLongW': 3.473931188332412, 'av_packet_rescale_ts': 6.643856189774724, 'GetVersion': 4.321928094887363, 'SHGetSpecialFolderLocation': 5.643856189774724, 'GetConsoleCursorInfo': 6.643856189774724, 'GdipGetImageWidth': 5.643856189774724, 'OutputDebugStringA': 3.1844245711374275, '_beginthreadex': 4.321928094887363, 'GdipDisposeImage': 5.643856189774724, 'av_frame_move_ref': 6.643856189774724, 'GetVersionExA': 3.473931188332412, '_write': 5.058893689053568, 'GetTextMetricsW': 5.058893689053568, '__initenv': 6.643856189774724, 'CopyImage': 5.643856189774724, 'CreateSemaphoreExW': 5.643856189774724, 'SetWindowPlacement': 4.643856189774724, 'CreateStreamOnHGlobal': 5.058893689053568, 'GetMenuCheckMarkDimensions': 3.643856189774725, 'ReleaseStgMedium': 5.643856189774724, 'av_copy_packet_side_data': 6.643856189774724, 'PathAddBackslashW': 6.643856189774724, 'CreateErrorInfo': 5.058893689053568, 'SaveDC': 3.8365012677171206, 'ExitThread': 4.321928094887363, 'av_strlcpy': 6.643856189774724, 'toupper': 5.058893689053568, 'ExtCreatePen': 5.058893689053568, 'IsClipboardFormatAvailable': 4.321928094887363, 'DragFinish': 5.643856189774724, 'GlobalReAlloc': 4.321928094887363, 'lstrcmpiW': 4.643856189774724, 'AllocateAndInitializeSid': 4.058893689053568, 'GetKeyboardLayout': 3.643856189774725, 'EnumResourceLanguagesW': 5.058893689053568, 'av_expr_free': 6.643856189774724, 'av_parse_ratio': 6.643856189774724, 'CopyEnhMetaFileW': 6.643856189774724, 'GlobalGetAtomNameW': 6.643856189774724, '_wtoi': 5.643856189774724, 'OleUninitialize': 4.321928094887363, 'GetSecurityDescriptorDacl': 5.058893689053568, 'OpenPrinterW': 4.643856189774724, 'AcquireSRWLockExclusive': 4.058893689053568, 'EndDialog': 4.643856189774724, 'DeleteTimerQueueTimer': 5.643856189774724, 'av_bitstream_filter_close': 6.643856189774724, 'CreatePen': 4.321928094887363, 'GlobalAddAtomA': 6.643856189774724, 'OpenMutexA': 5.643856189774724, 'GetWindowExtEx': 4.643856189774724, 'QueryActCtxW': 6.643856189774724, 'VerifyVersionInfoA': 6.643856189774724, 'avcodec_register_all': 6.643856189774724, 'IsWindowEnabled': 3.8365012677171206, '_commode': 5.058893689053568, 'ClientToScreen': 3.321928094887362, 'GetWindowRgn': 5.643856189774724, 'CreateDialogIndirectParamW': 5.058893689053568, 'GetConsoleTitleW': 6.643856189774724, 'GetComboBoxInfo': 5.643856189774724, 'JLI_InitArgProcessing': 5.058893689053568, 'av_buffersrc_add_frame_flags': 6.643856189774724, 'ChooseColorA': 5.058893689053568, 'GetVersionExW': 2.8365012677171206, 'fprintf': 5.058893689053568, 'realloc': 3.8365012677171206, 'AppendMenuA': 6.643856189774724, 'avcodec_find_encoder': 6.643856189774724, 'DrawStateA': 6.643856189774724, '_unlock': 5.643856189774724, 'VarBstrFromDate': 5.643856189774724, 'QueueUserWorkItem': 6.643856189774724, 'SetNamedPipeHandleState': 5.058893689053568, 'CreateDialogParamW': 6.643856189774724, 'memcpy_s': 5.643856189774724, 'VirtualQueryEx': 5.058893689053568, 'OpenInputDesktop': 6.643856189774724, 'lstrcpynW': 5.643856189774724, 'SetCommState': 5.058893689053568, 'LoadLibraryExW': 1.3959286763311394, 'av_format_set_subtitle_codec': 6.643856189774724, 'IsZoomed': 3.8365012677171206, 'SetPropW': 4.058893689053568, 'GetNumberOfConsoleInputEvents': 6.643856189774724, 'atan2': 5.058893689053568, 'SetCommTimeouts': 5.058893689053568, 'SetParent': 3.8365012677171206, 'DPtoLP': 4.321928094887363, 'GetClassLongW': 4.321928094887363, 'puts': 5.058893689053568, 'NdrCStdStubBuffer2_Release': 6.643856189774724, 'SetWindowRgn': 5.643856189774724, 'select': 5.058893689053568, 'FillConsoleOutputCharacterW': 6.643856189774724, 'FreeSid': 4.058893689053568, '_seh_filter_exe': 3.643856189774725, 'SetMenuItemInfoA': 6.643856189774724, 'SetLayeredWindowAttributes': 5.643856189774724, 'av_frame_ref': 6.643856189774724, 'IsExtensionPointDisableSet': 6.643856189774724, 'av_bitstream_filter_init': 6.643856189774724, 'GetThreadLocale': 4.058893689053568, 'SetProcessMitigationPolicy': 6.643856189774724, 'GetDriveTypeA': 6.643856189774724, 'GetObjectA': 4.321928094887363, '__p___argc': 3.1844245711374275, 'GlobalSize': 5.643856189774724, '_getpid': 5.058893689053568, '_lock': 5.643856189774724, 'SetCurrentDirectoryA': 5.058893689053568, 'ShellExecuteA': 5.058893689053568, 'SetupComm': 5.058893689053568, 'GlobalDeleteAtom': 3.8365012677171206, 'avcodec_find_best_pix_fmt_of_2': 6.643856189774724, 'avsubtitle_free': 6.643856189774724, 'RealChildWindowFromPoint': 5.643856189774724, 'TrackMouseEvent': 5.643856189774724, 'SetHandleCount': 3.8365012677171206, 'FrameRect': 4.643856189774724, 'LocalFree': 1.9434164716336326, 'GetThemeSysColor': 5.643856189774724, 'AccessibleObjectFromWindow': 5.643856189774724, 'SystemTimeToFileTime': 6.643856189774724, 'av_log_get_flags': 6.643856189774724, 'GetSecurityDescriptorLength': 5.643856189774724, 'GetErrorInfo': 5.643856189774724, 'av_get_exact_bits_per_sample': 6.643856189774724, 'CreateCompatibleBitmap': 3.8365012677171206, 'mbstowcs': 6.643856189774724, '_iob': 4.321928094887363, 'GetKeyNameTextW': 5.058893689053568, 'GetWindowLongPtrA': 6.643856189774724, 'GetWindowDC': 4.058893689053568, 'av_get_standard_channel_layout': 6.643856189774724, 'SetThreadAffinityMask': 5.058893689053568, 'DestroyEnvironmentBlock': 5.643856189774724, 'PowerWriteACDefaultIndex': 5.058893689053568, 'avfilter_pad_get_name': 6.643856189774724, 'SetConsoleWindowInfo': 6.643856189774724, 'GdipBitmapLockBits': 5.643856189774724, 'DeleteObject': 3.321928094887362, 'GetPaletteEntries': 3.8365012677171206, 'SafeArrayLock': 6.643856189774724, 'FindResourceExW': 3.473931188332412, 'timeGetTime': 5.643856189774724, 'avio_check': 6.643856189774724, 'MappingGetServices': 6.643856189774724, 'CreateMutexA': 6.643856189774724, 'av_compare_ts': 6.643856189774724, 'ValidateRect': 4.321928094887363, 'av_register_all': 6.643856189774724, 'SetFileApisToOEM': 6.643856189774724, 'GetBrushOrgEx': 5.643856189774724, 'GetFileInformationByHandleEx': 6.643856189774724, 'GetWindowOrgEx': 4.643856189774724, 'GetWindowTextLengthA': 5.643856189774724, 'PowerDeleteScheme': 5.058893689053568, 'CreateDIBSection': 3.8365012677171206, 'CreateFontIndirectA': 4.643856189774724, 'GlobalMemoryStatusEx': 4.321928094887363, 'RemoveDirectoryA': 4.643856189774724, 'BCryptCreateHash': 6.643856189774724, 'fflush': 4.321928094887363, 'CreateBrushIndirect': 5.643856189774724, 'GetDlgItem': 3.8365012677171206, 'exit': 2.736965594166206, 'EtwEventSetInformation': 6.643856189774724, 'SendDlgItemMessageW': 5.643856189774724, 'ReadProcessMemory': 6.643856189774724, 'GetWindowTextA': 4.321928094887363, 'MultiByteToWideChar': 1.6438561897747246, 'PathFindFileNameA': 6.643856189774724, 'OpenFileMappingW': 4.643856189774724, 'SetForegroundWindow': 3.321928094887362, 'CopyMetaFileW': 6.643856189774724, 'GetLocalTime': 4.058893689053568, 'JLI_MemAlloc': 3.8365012677171206, 'DeleteProcThreadAttributeList': 5.058893689053568, 'SetupDiSetDeviceRegistryPropertyA': 5.643856189774724, 'TryEnterCriticalSection': 6.643856189774724, 'recv': 4.643856189774724, 'PathFindFileNameW': 4.321928094887363, 'floor': 5.058893689053568, 'GetMessagePos': 3.321928094887362, 'GetProcessHandleCount': 6.643856189774724, 'lstrcpynA': 5.058893689053568, 'GetSystemMenu': 3.8365012677171206, 'SetServiceStatus': 5.643856189774724, 'InvalidateRgn': 4.643856189774724, 'WaitForThreadpoolTimerCallbacks': 6.643856189774724, 'CoSetProxyBlanket': 6.643856189774724, 'StgOpenStorageOnILockBytes': 5.058893689053568, 'strncpy': 5.058893689053568, 'ImmGetContext': 4.321928094887363, 'avcodec_find_decoder': 6.643856189774724, 'SHCreateStreamOnFileW': 6.643856189774724, 'CreateFileMappingA': 5.058893689053568, 'VerifyVersionInfoW': 5.058893689053568, 'InitializeConditionVariable': 6.643856189774724, 'GetPropW': 4.058893689053568, 'GetSysColorBrush': 3.321928094887362, 'GdipCreateBitmapFromHBITMAP': 5.643856189774724, 'avformat_find_stream_info': 6.643856189774724, 'av_log_default_callback': 6.643856189774724, 'SetWindowsHookExW': 4.058893689053568, 'av_strtod': 6.643856189774724, 'GetTopWindow': 3.8365012677171206, 'JLI_CmdToArgs': 3.8365012677171206, 'ExpandEnvironmentStringsA': 6.643856189774724, 'ExtSelectClipRgn': 4.643856189774724, 'GetTextExtentPointW': 6.643856189774724, 'SleepEx': 6.643856189774724, 'GetSecurityDescriptorOwner': 4.058893689053568, 'ShellExecuteW': 6.643856189774724, 'MsgWaitForMultipleObjectsEx': 3.643856189774725, 'CommandLineToArgvW': 3.473931188332412, 'CharLowerBuffW': 6.643856189774724, 'EnumFontFamiliesA': 4.643856189774724, 'CallWindowProcA': 4.321928094887363, 'GetMenuStringW': 5.058893689053568, 'SetBkMode': 3.8365012677171206, 'CloseWindowStation': 6.643856189774724, 'atexit': 4.643856189774724, 'ImageList_DragShowNolock': 5.643856189774724, 'av_frame_free': 6.643856189774724, 'OpenServiceA': 6.643856189774724, 'GetTempFileNameA': 4.643856189774724, 'CoRegisterMessageFilter': 5.058893689053568, 'strtod': 5.058893689053568, 'setsockopt': 4.643856189774724, 'CreateSemaphoreA': 4.643856189774724, 'RegisterClassExW': 6.643856189774724, 'GetRgnBox': 3.473931188332412, 'GetFileTitleW': 5.643856189774724, 'EtwEventActivityIdControl': 6.643856189774724, 'swscale_version': 6.643856189774724, '__p__environ': 4.321928094887363, 'SetLayout': 5.643856189774724, 'GetSaveFileNameA': 5.058893689053568, 'SetClassLongW': 5.058893689053568, 'IsDBCSLeadByteEx': 5.643856189774724, 'OutputDebugStringW': 2.5563933485243853, 'RegOpenKeyW': 5.058893689053568, 'PeekConsoleInputA': 4.643856189774724, 'GetActiveWindow': 3.473931188332412, 'SystemTimeToVariantTime': 4.643856189774724, 'BeginPaint': 3.473931188332412, 'GetClassNameA': 5.643856189774724, 'GetCurrentProcessId': 1.3584539709124765, 'PurgeComm': 5.058893689053568, 'DeactivateActCtx': 6.643856189774724, 'SetInformationJobObject': 6.643856189774724, 'DrawIconEx': 4.643856189774724, 'AreFileApisANSI': 6.643856189774724, 'SetProcessShutdownParameters': 5.643856189774724, 'GetSystemDefaultLangID': 5.643856189774724, 'GetStringTypeW': 1.8365012677171206, 'avformat_query_codec': 6.643856189774724, 'RegDeleteValueW': 4.643856189774724, 'MoveWindow': 3.8365012677171206, 'EnumFontFamiliesExW': 6.643856189774724, 'FindNextFileA': 4.058893689053568, 'RegisterEventSourceW': 6.643856189774724, 'VarBstrCat': 5.643856189774724, '_wcsicmp': 4.321928094887363, 'CM_Get_Child': 6.643856189774724, 'IsIconic': 3.321928094887362, 'GetWinMetaFileBits': 6.643856189774724, 'CreateDCA': 4.643856189774724, 'GenerateConsoleCtrlEvent': 6.643856189774724, 'JLI_GetStdArgs': 3.8365012677171206, 'av_frame_alloc': 6.643856189774724, 'InsertMenuItemW': 5.058893689053568, 'SetFileAttributesW': 3.473931188332412, 'SetHandleInformation': 4.058893689053568, 'accept': 4.643856189774724, 'VarBstrFromI8': 6.643856189774724, '_ftime': 5.058893689053568, 'avfilter_graph_create_filter': 6.643856189774724, 'ImageList_DragMove': 5.643856189774724, 'SendMessageW': 3.0588936890535687, 'ClosePrinter': 4.321928094887363, 'NtOpenFile': 6.643856189774724, 'GetEnhMetaFilePaletteEntries': 6.643856189774724, 'GetCurrentProcess': 1.5563933485243855, 'exp': 5.058893689053568, 'CreateEllipticRgn': 5.643856189774724, 'RegCreateKeyExA': 5.058893689053568, 'SwitchToThread': 2.0, 'ShowWindow': 3.1844245711374275, 'FreeLibraryAndExitThread': 5.058893689053568, 'CreatePopupMenu': 3.8365012677171206, 'EnumChildWindows': 5.643856189774724, 'RoundRect': 5.643856189774724, 'CharUpperA': 6.643856189774724, 'av_calloc': 6.643856189774724, 'GlobalHandle': 4.321928094887363, 'strcspn': 5.058893689053568, 'GetClassLongA': 4.643856189774724, 'GetLengthSid': 4.643856189774724, 'CheckDlgButton': 5.643856189774724, 'av_usleep': 6.643856189774724, 'av_pix_fmt_desc_get_id': 6.643856189774724, 'VerQueryValueW': 4.058893689053568, 'TranslateCharsetInfo': 5.058893689053568, 'CreatePatternBrush': 4.321928094887363, 'av_log_set_level': 6.643856189774724, 'GetUserDefaultLCID': 3.0588936890535687, 'UnRegisterTypeLib': 5.643856189774724, 'FindResourceA': 4.643856189774724, 'CreateAcceleratorTableW': 6.643856189774724, 'CreateIconIndirect': 5.058893689053568, 'GetCommModemStatus': 5.058893689053568, '_open': 5.058893689053568, 'av_strerror': 6.643856189774724, 'CharLowerA': 5.058893689053568, 'SetPaletteEntries': 4.321928094887363, 'TabbedTextOutA': 6.643856189774724, '_errno': 3.8365012677171206, 'TlsSetValue': 1.7369655941662063, 'DrawEdge': 3.8365012677171206, 'ImmGetOpenStatus': 5.643856189774724, '_i64tow_s': 6.643856189774724, 'SymCleanup': 5.643856189774724, 'PathStripToRootW': 5.058893689053568, 'wcschr': 4.321928094887363, 'memset': 2.9434164716336326, 'DocumentPropertiesA': 6.643856189774724, 'WaitForMultipleObjects': 2.0588936890535687, 'SymFromAddr': 5.643856189774724, 'GetSystemTimeAsFileTime': 1.3584539709124765, 'RegisterClassW': 3.473931188332412, 'CopyFileA': 4.321928094887363, 'LCIDToLocaleName': 6.643856189774724, 'GetLogicalDrives': 6.643856189774724, 'RegisterTypeLib': 5.058893689053568, 'GetDesktopWindow': 3.321928094887362, 'strcmp': 4.321928094887363, 'wcstoul': 6.643856189774724, 'GetEnvironmentVariableW': 4.058893689053568, 'GetKeyNameTextA': 6.643856189774724, 'RegCloseKey': 2.2515387669959646, 'GdipCreateBitmapFromScan0': 5.643856189774724, 'DisconnectNamedPipe': 6.643856189774724, 'FillRgn': 5.643856189774724, 'DestroyCaret': 5.058893689053568, 'closesocket': 4.643856189774724, 'RtlLookupFunctionEntry': 2.321928094887362, 'GetTextMetricsA': 4.643856189774724, 'GetTempFileNameW': 4.643856189774724, 'av_log_set_flags': 6.643856189774724, 'GetFileVersionInfoSizeA': 6.643856189774724, 'atoi': 4.643856189774724, 'EscapeCommFunction': 5.058893689053568, 'strcpy': 4.321928094887363, 'ReleaseSemaphore': 3.473931188332412, '__dllonexit': 5.058893689053568, 'HeapSize': 2.0588936890535687, 'SetDlgItemTextW': 6.643856189774724, 'SetStdHandle': 2.0, 'SHCreateDirectoryExW': 6.643856189774724, 'UnregisterApplicationRestart': 6.643856189774724, 'QueryInformationJobObject': 6.643856189774724, 'CoTaskMemRealloc': 5.643856189774724, 'LookupPrivilegeValueW': 6.643856189774724, 'HeapCreate': 4.321928094887363, 'atan': 5.058893689053568, 'OpenMutexW': 5.058893689053568, 'CoGetClassObject': 4.643856189774724, 'GetSecurityDescriptorGroup': 5.058893689053568, 'CoInitializeEx': 3.8365012677171206, 'VkKeyScanA': 5.058893689053568, 'GetOverlappedResult': 4.058893689053568, 'av_get_channel_description': 6.643856189774724, 'BCryptOpenAlgorithmProvider': 6.643856189774724, 'CreateFileA': 2.0, '_onexit': 3.8365012677171206, 'wcscpy_s': 6.643856189774724, 'FormatMessageW': 2.8365012677171206, 'av_opt_eval_flags': 6.643856189774724, 'PtVisible': 4.321928094887363, 'avfilter_graph_set_auto_convert': 6.643856189774724, 'MulDiv': 3.473931188332412, 'HeapDestroy': 3.321928094887362, 'BCryptGetProperty': 6.643856189774724, '_c_exit': 3.473931188332412, 'InterlockedCompareExchange': 5.643856189774724, 'GetStringTypeExW': 6.643856189774724, 'VirtualQuery': 1.8889686876112561, '_CorExeMain': 3.321928094887362, 'GetThreadDesktop': 6.643856189774724, 'GetTickCount': 2.0, 'LoadImageW': 5.643856189774724, 'SetWaitableTimer': 2.8365012677171206, 'GetQueuedCompletionStatusEx': 2.8365012677171206, 'SysAllocString': 2.8365012677171206, 'av_guess_format': 6.643856189774724, 'JLI_GetStdArgc': 3.8365012677171206, 'SafeArrayGetLBound': 5.643856189774724, 'GetFileSecurityW': 6.643856189774724, 'av_get_cpu_flags': 6.643856189774724, 'GetExitCodeProcess': 2.8365012677171206, 'CoTaskMemAlloc': 3.473931188332412, 'av_frame_get_channels': 6.643856189774724, 'GetStartupInfoW': 1.7858751946471525, 'GetCapture': 3.321928094887362, 'GetDeviceCaps': 3.321928094887362, 'VarBstrCmp': 6.643856189774724, 'avformat_network_init': 6.643856189774724, 'lstrcmpA': 4.058893689053568, 'GetDoubleClickTime': 5.058893689053568, 'ImageList_Read': 5.643856189774724, 'getsockopt': 4.643856189774724, 'SafeArrayPtrOfIndex': 5.643856189774724, 'QueryThreadCycleTime': 5.058893689053568, 'ImageList_GetBkColor': 5.643856189774724, 'WinSqmAddToStream': 6.643856189774724, 'GetEnhMetaFileHeader': 6.643856189774724, 'CoCreateGuid': 5.058893689053568, 'WideCharToMultiByte': 1.6896598793878495, '_adjust_fdiv': 6.643856189774724, '__CxxFrameHandler': 6.643856189774724, 'towupper': 6.643856189774724, 'LockFileEx': 6.643856189774724, '_strtoi64': 5.058893689053568, 'SetTextColor': 3.321928094887362, 'SysReAllocStringLen': 5.643856189774724, 'PlaySoundA': 6.643856189774724, 'GetVolumeInformationW': 4.058893689053568, '_gmtime64': 6.643856189774724, 'AppendMenuW': 6.643856189774724, 'av_bprintf': 6.643856189774724, 'RegisterClipboardFormatW': 4.321928094887363, 'GlobalUnlock': 3.473931188332412, 'GdipBitmapUnlockBits': 5.643856189774724, 'SymGetSearchPathW': 5.643856189774724, 'avutil_configuration': 6.643856189774724, 'PathFileExistsW': 6.643856189774724, 'GetEnvironmentStrings': 5.643856189774724, 'SetupDiGetClassDevsW': 5.643856189774724, 'DefMDIChildProcA': 6.643856189774724, 'FileTimeToDosDateTime': 5.643856189774724, 'InitializeSecurityDescriptor': 3.643856189774725, 'MessageBeep': 3.643856189774725, 'OleDestroyMenuDescriptor': 5.643856189774724, 'SetViewportExtEx': 4.321928094887363, 'InitializeSListHead': 2.321928094887362, 'SetEndOfFile': 2.395928676331139, 'HeapFree': 1.7858751946471525, 'OpenThemeData': 5.643856189774724, 'StrCmpW': 6.643856189774724, 'RegQueryValueW': 4.643856189774724, 'avformat_write_header': 6.643856189774724, 'CoResumeClassObjects': 6.643856189774724, 'FindFirstVolumeA': 6.643856189774724, 'Ellipse': 5.643856189774724, 'IsAppThemed': 5.643856189774724, 'SetWindowOrgEx': 4.643856189774724, 'StartServiceCtrlDispatcherW': 5.643856189774724, 'avio_printf': 6.643856189774724, 'avcodec_get_frame_class': 6.643856189774724, 'EtwEventUnregister': 6.643856189774724, 'PathFileExistsA': 6.643856189774724, 'av_get_pix_fmt_name': 6.643856189774724, 'GetParent': 3.321928094887362, 'av_force_cpu_flags': 6.643856189774724, 'avfilter_graph_config': 6.643856189774724, 'GetDlgCtrlID': 4.058893689053568, 'wcsstr': 5.643856189774724, 'log10': 5.058893689053568, 'EnumCalendarInfoW': 5.643856189774724, 'CoCreateInstance': 2.9434164716336326, 'EnumSystemLocalesW': 3.321928094887362, 'CreateDirectoryW': 3.321928094887362, 'GetFileSize': 4.321928094887363, 'av_asprintf': 6.643856189774724, '_get_initial_narrow_environment': 3.8365012677171206, 'NtQuerySystemInformation': 6.643856189774724, 'av_get_default_channel_layout': 6.643856189774724, 'modf': 5.058893689053568, '_wstat64': 6.643856189774724, 'av_find_input_format': 6.643856189774724, 'GetTextExtentPoint32W': 4.058893689053568, 'OpenPrinterA': 6.643856189774724, '_resetstkoflw': 6.643856189774724, 'avfilter_init_str': 6.643856189774724, 'av_mul_q': 6.643856189774724, 'WaitMessage': 4.643856189774724, '_timezone': 5.058893689053568, 'RtlFreeUnicodeString': 6.643856189774724, 'strstr': 5.058893689053568, 'av_get_token': 6.643856189774724, 'SelectObject': 3.321928094887362, 'av_pkt_dump_log2': 6.643856189774724, 'av_buffer_create': 6.643856189774724, 'KillTimer': 3.321928094887362, 'K32GetProcessImageFileNameW': 6.643856189774724, 'ImmDisableIME': 6.643856189774724, 'GetTextExtentPoint32A': 4.643856189774724, 'PostThreadMessageW': 3.8365012677171206, 'SetViewportOrgEx': 3.8365012677171206, 'MapVirtualKeyW': 4.321928094887363, 'GetEnvironmentStringsW': 1.3584539709124765, 'tanh': 5.058893689053568, 'fputs': 4.643856189774724, 'ntohs': 5.058893689053568, 'UnregisterClassW': 4.058893689053568, 'avcodec_default_get_buffer2': 6.643856189774724, 'SysAllocStringByteLen': 4.321928094887363, 'TranslateMDISysAccel': 4.643856189774724, 'GetSystemDirectoryW': 4.058893689053568, 'DrawStateW': 6.643856189774724, 'GetWindowLongPtrW': 5.643856189774724, 'GetSaveFileNameW': 5.058893689053568, 'InterlockedExchange': 4.321928094887363, 'SetupDiCallClassInstaller': 5.058893689053568, 'avio_closep': 6.643856189774724, 'K32QueryWorkingSetEx': 6.643856189774724, 'SetRect': 4.058893689053568, 'lstrcatA': 6.643856189774724, 'HeapAlloc': 1.7858751946471525, 'InsertMenuW': 4.058893689053568, 'GetPhysicallyInstalledSystemMemory': 6.643856189774724, 'ImageList_EndDrag': 5.643856189774724, 'EndDeferWindowPos': 5.643856189774724, 'avcodec_open2': 6.643856189774724, 'CompareStringW': 2.395928676331139, 'GetTokenInformation': 4.643856189774724, 'GetCurrentThemeName': 5.643856189774724, 'InitOnceBeginInitialize': 5.643856189774724, 'GetClipboardOwner': 5.058893689053568, 'av_pix_fmt_desc_get': 6.643856189774724, 'AdjustWindowRectEx': 3.321928094887362, 'FileTimeToSystemTime': 3.643856189774725, 'avcodec_decode_subtitle2': 6.643856189774724, 'QueryPerformanceCounter': 1.3584539709124765, 'SetErrorMode': 2.1202942337177118, 'MakeAbsoluteSD': 5.058893689053568, 'SetClipboardData': 4.058893689053568, 'avformat_open_input': 6.643856189774724, 'av_strdup': 6.643856189774724, 'ImageList_SetIconSize': 5.643856189774724, '_wcsnicmp': 5.643856189774724, 'memchr': 6.643856189774724, 'lstrcmpiA': 4.058893689053568, 'tan': 5.058893689053568, 'GetSystemWow64DirectoryA': 6.643856189774724, 'avfilter_graph_send_command': 6.643856189774724, 'AddAccessDeniedAce': 5.643856189774724, 'OpenClipboard': 4.058893689053568, 'GetSystemDefaultUILanguage': 6.643856189774724, 'SetupDiGetDeviceRegistryPropertyA': 5.058893689053568, 'GetSidSubAuthority': 6.643856189774724, 'avfilter_graph_free': 6.643856189774724, 'AdjustTokenPrivileges': 6.643856189774724, 'GetCPInfo': 1.8889686876112561, 'ToUnicodeEx': 6.643856189774724, 'CoRegisterInitializeSpy': 5.643856189774724, 'RestoreDC': 3.8365012677171206, 'GetQueuedCompletionStatus': 6.643856189774724, 'avpriv_snprintf': 6.643856189774724, 'GetModuleHandleA': 2.395928676331139, 'avfilter_link_get_channels': 6.643856189774724, 'AddAce': 5.058893689053568, 'GetDIBits': 4.058893689053568, 'InitializeProcThreadAttributeList': 5.058893689053568, 'CreateSemaphoreW': 5.643856189774724, 'TerminateThread': 4.321928094887363, 'IntersectRect': 4.058893689053568, 'UnregisterWaitEx': 4.643856189774724, 'SafeArrayGetUBound': 5.643856189774724, 'SHGetPathFromIDListA': 4.643856189774724, 'TranslateMessage': 2.473931188332412, 'lstrlenW': 3.473931188332412, 'CopyRect': 4.321928094887363, '_execute_onexit_table': 6.643856189774724, 'IsDialogMessageW': 4.058893689053568, 'CharLowerW': 4.321928094887363, 'GetScrollInfo': 4.643856189774724, 'MapVirtualKeyA': 4.643856189774724, 'av_dict_copy': 6.643856189774724, 'SuspendThread': 2.643856189774725, 'InterlockedExchangeAdd': 5.643856189774724, 'SHGetPathFromIDListW': 4.643856189774724, 'ResumeThread': 2.321928094887362, 'ResizePalette': 5.058893689053568, 'FlushInstructionCache': 5.643856189774724, 'GetDlgItemInt': 6.643856189774724, 'InterlockedPushEntrySList': 5.643856189774724, 'EtwEventRegister': 6.643856189774724, 'CheckMenuItem': 3.8365012677171206, 'MoveFileW': 4.058893689053568, 'UuidFromStringA': 6.643856189774724, 'CM_Get_Parent': 6.643856189774724, 'SetupDiOpenDeviceInfoA': 6.643856189774724, 'PathStripToRootA': 6.643856189774724, 'EnumThreadWindows': 5.643856189774724, 'WSACleanup': 5.058893689053568, 'BCryptHashData': 6.643856189774724, 'RemovePropW': 4.058893689053568, 'GdipGetImagePalette': 5.643856189774724, '_vsnwprintf': 5.643856189774724, 'av_image_copy_plane': 6.643856189774724, 'SetEnvironmentVariableW': 2.736965594166206, 'WakeAllConditionVariable': 4.058893689053568, 'RegEnumKeyExA': 5.643856189774724, '_fileno': 6.643856189774724, 'PostQuitMessage': 2.9434164716336326, 'GetBitmapBits': 5.643856189774724, 'av_log_get_level': 6.643856189774724, 'PathIsUNCA': 6.643856189774724, 'CloseServiceHandle': 5.058893689053568, 'GetAce': 5.643856189774724, 'SHGetFileInfoA': 6.643856189774724, 'av_format_set_audio_codec': 6.643856189774724, 'av_opt_get_int': 6.643856189774724, 'swr_free': 6.643856189774724, 'avcodec_encode_subtitle': 6.643856189774724, 'RtlCaptureStackBackTrace': 5.058893689053568, 'SetPropA': 6.643856189774724, 'RegOpenKeyExW': 2.736965594166206, 'htons': 4.643856189774724, '__mb_cur_max': 4.643856189774724, 'av_frame_unref': 6.643856189774724, 'CommDlgExtendedError': 5.058893689053568, 'av_opt_set_dict': 6.643856189774724, 'ImageList_DrawEx': 5.643856189774724, 'abort': 4.321928094887363, 'JLI_Launch': 3.8365012677171206, 'GdipGetImageHeight': 5.643856189774724, 'CopyAcceleratorTableW': 5.058893689053568, 'CreateHalftonePalette': 5.643856189774724, 'RegGetValueW': 5.643856189774724, 'lstrcpyW': 4.058893689053568, 'avformat_free_context': 6.643856189774724, 'IUnknown_Release_Proxy': 6.643856189774724, 'av_rescale_delta': 6.643856189774724, 'SubtractRect': 5.643856189774724, 'ReplaceFileW': 6.643856189774724, 'GetEnhMetaFileBits': 6.643856189774724, 'avio_open_dyn_buf': 6.643856189774724, 'LPtoDP': 5.058893689053568, 'RtlInitUnicodeString': 5.058893689053568, '_strdup': 4.321928094887363, 'IsWindow': 3.0588936890535687, 'av_iformat_next': 6.643856189774724, 'avfilter_pad_count': 6.643856189774724, 'GrayStringW': 4.643856189774724, 'FlushFileBuffers': 1.7858751946471525, 'RpcStringFreeW': 6.643856189774724, 'GetKeyState': 3.321928094887362, 'ChangeServiceConfigA': 6.643856189774724, 'av_realloc': 6.643856189774724, 'ctime': 5.058893689053568, 'time': 5.058893689053568, 'InsertMenuA': 4.643856189774724, '_mkdir': 6.643856189774724, 'CMGetCachedDisks': 6.643856189774724, 'GlobalAlloc': 3.473931188332412, 'CharUpperBuffA': 6.643856189774724, 'CM_Locate_DevNodeA': 6.643856189774724, 'ceil': 5.058893689053568, 'LookupAccountNameA': 5.643856189774724, 'wcscpy': 4.643856189774724, 'RegisterServiceCtrlHandlerExW': 6.643856189774724, 'GetCharWidthA': 5.058893689053568, 'av_log_set_callback': 6.643856189774724, 'MessageBoxW': 3.1844245711374275, 'UnmapViewOfFile': 3.643856189774725, 'CreateTimerQueue': 6.643856189774724, 'avcodec_decode_video2': 6.643856189774724, 'SetEnvironmentVariableA': 4.643856189774724, 'DeviceIoControl': 4.058893689053568, 'LineTo': 4.643856189774724, 'GetLastError': 1.5145731728297582, 'SetConsoleScreenBufferSize': 6.643856189774724, 'GetNearestPaletteIndex': 4.321928094887363, 'DestroyWindow': 3.0588936890535687, 'DrawFrameControl': 3.8365012677171206, '__getmainargs': 4.058893689053568, 'CreateNamedPipeW': 4.643856189774724, 'FlsFree': 3.8365012677171206, 'fopen': 6.643856189774724, 'av_free': 6.643856189774724, 'FindFirstFileA': 4.058893689053568, 'av_get_known_color_name': 6.643856189774724, 'av_opt_get_key_value': 6.643856189774724, 'MapVirtualKeyExA': 6.643856189774724, 'IsProcessorFeaturePresent': 1.7369655941662063, '__stdio_common_vfprintf': 3.643856189774725, '_seh_filter_dll': 6.643856189774724, 'SetMenuDefaultItem': 5.643856189774724, '__p__commode': 3.473931188332412, 'PostMessageW': 3.321928094887362, 'TranslateAcceleratorW': 6.643856189774724, 'av_gettime_relative': 6.643856189774724, 'DocumentPropertiesW': 4.643856189774724, '__CxxFrameHandler3': 5.643856189774724, 'SystemParametersInfoW': 5.058893689053568, 'SetThreadErrorMode': 6.643856189774724, 'wsprintfA': 4.058893689053568, 'VirtualFreeEx': 6.643856189774724, 'PtInRegion': 5.643856189774724, 'CM_Get_Sibling': 6.643856189774724, 'CreateMutexExW': 5.643856189774724, 'RegisterClassA': 4.643856189774724, 'SHBrowseForFolderW': 4.643856189774724, 'avformat_network_deinit': 6.643856189774724, 'fputc': 4.643856189774724, 'RegOpenKeyExA': 3.643856189774725, 'DispatchMessageW': 2.8365012677171206, '_vscwprintf': 6.643856189774724, 'SetClassLongA': 5.058893689053568, 'NtOpenKeyEx': 6.643856189774724, 'bind': 4.643856189774724, 'CM_Get_DevNode_Registry_PropertyA': 6.643856189774724, 'StrRStrIW': 6.643856189774724, 'CreateILockBytesOnHGlobal': 5.058893689053568, 'InsertMenuItemA': 6.643856189774724, 'RegisterClipboardFormatA': 6.643856189774724, 'GetMenuState': 3.8365012677171206, 'CM_Get_DevNode_Status': 6.643856189774724, 'DrawTextW': 4.058893689053568, '_putenv': 5.058893689053568, 'MapWindowPoints': 3.8365012677171206, 'ReadConsoleInputW': 6.643856189774724, 'avfilter_link': 6.643856189774724, 'ExtTextOutW': 4.643856189774724, 'av_parse_video_rate': 6.643856189774724, 'ReleaseCapture': 3.473931188332412, 'av_parse_time': 6.643856189774724, 'CoRevokeClassObject': 4.058893689053568, 'GetPrivateProfileStringA': 5.058893689053568, 'SetCursor': 3.321928094887362, 'av_oformat_next': 6.643856189774724, 'signal': 4.643856189774724, 'GetTextFaceW': 4.643856189774724, 'CreateDCW': 6.643856189774724, 'wcsncpy': 5.058893689053568, 'CreateEnvironmentBlock': 5.643856189774724, 'RemovePropA': 6.643856189774724, 'RegisterPowerSettingNotification': 6.643856189774724, 'LoadBitmapA': 5.058893689053568, 'SetFileSecurityW': 6.643856189774724, 'strrchr': 4.321928094887363, 'htonl': 6.643856189774724, 'CreateCaret': 5.058893689053568, 'InitializeFlatSB': 5.643856189774724, 'GetSysColor': 3.321928094887362, '?terminate@@YAXXZ': 5.058893689053568, 'swscale_configuration': 6.643856189774724, 'GetTextCharsetInfo': 5.643856189774724, 'GetComputerNameExA': 6.643856189774724, 'SetConsoleTextAttribute': 6.643856189774724, 'memmove': 4.321928094887363, 'vsprintf': 5.058893689053568, 'GetFileInformationByHandle': 3.473931188332412, 'CreateWindowExW': 3.321928094887362, 'ReleaseDC': 3.321928094887362, 'FindResourceW': 2.9434164716336326, 'LCMapStringA': 4.058893689053568, 'SafeArrayUnaccessData': 5.643856189774724, 'HideCaret': 5.643856189774724, 'GdipSetInterpolationMode': 5.643856189774724, 'CM_Request_Device_EjectA': 6.643856189774724, 'av_expr_parse': 6.643856189774724, 'FlatSB_GetScrollPos': 5.643856189774724, 'GetFileAttributesA': 3.8365012677171206, '_cexit': 2.736965594166206, 'vfprintf': 4.643856189774724, 'lstrcpyA': 4.321928094887363, 'GetStringTypeA': 4.058893689053568, 'GetDCOrgEx': 5.643856189774724, 'ActivateKeyboardLayout': 5.643856189774724, 'RegNotifyChangeKeyValue': 6.643856189774724, 'avio_open2': 6.643856189774724, 'gethostname': 4.643856189774724, 'SetupDiEnumDeviceInterfaces': 6.643856189774724, 'GetConsoleScreenBufferInfo': 5.643856189774724, 'av_strtok': 6.643856189774724, 'WinHelpW': 4.643856189774724, 'FlsGetValue': 3.8365012677171206, 'GetCurrentThreadId': 0.9434164716336326, 'CoInitialize': 3.0588936890535687, 'TextOutA': 4.643856189774724, 'GetDateFormatW': 3.643856189774725, 'asin': 5.058893689053568, 'MakeSelfRelativeSD': 5.643856189774724, 'GetProcessId': 5.058893689053568, 'GetThemeColor': 5.643856189774724, 'RtlPcToFileHeader': 3.643856189774725, 'CreateRectRgn': 3.8365012677171206, 'RegEnumKeyExW': 4.643856189774724, 'WaitForSingleObjectEx': 3.643856189774725, 'SleepConditionVariableSRW': 4.058893689053568, 'GetConsoleOutputCP': 3.1844245711374275, 'OleIsCurrentClipboard': 5.058893689053568, 'SystemTimeToTzSpecificLocalTime': 4.643856189774724, 'WSAStartup': 5.058893689053568, 'FindNextVolumeA': 6.643856189774724, 'GetNextDlgTabItem': 4.643856189774724, 'RegEnumKeyW': 4.643856189774724, 'UuidHash': 6.643856189774724, 'OleFlushClipboard': 5.058893689053568, 'CopyFileW': 4.058893689053568, 'av_bitstream_filter_next': 6.643856189774724, 'av_buffersrc_get_nb_failed_requests': 6.643856189774724, 'DestroyAcceleratorTable': 5.643856189774724, '_initialize_narrow_environment': 3.643856189774725, 'GetUserObjectInformationW': 5.643856189774724, 'SetWinMetaFileBits': 6.643856189774724, 'avfilter_configuration': 6.643856189774724, 'FormatMessageA': 3.8365012677171206, 'ExitProcess': 1.15200309344505, 'IsRectEmpty': 4.321928094887363, '_isatty': 4.643856189774724, 'GetProductInfo': 5.058893689053568, 'av_get_channel_layout_nb_channels': 6.643856189774724, '_hypot': 5.058893689053568, 'RegSetValueExW': 3.473931188332412, 'OpenEventW': 4.643856189774724, '_wopen': 5.058893689053568, 'av_expr_eval': 6.643856189774724, 'SetClassLongPtrA': 6.643856189774724, 'strlen': 4.058893689053568, 'InvalidateRect': 3.473931188332412, 'av_get_pix_fmt': 6.643856189774724, 'sinh': 5.058893689053568, 'pow': 5.058893689053568, 'inet_addr': 4.643856189774724, 'av_free_packet': 6.643856189774724, 'av_mallocz': 6.643856189774724, '_register_thread_local_exe_atexit_callback': 3.643856189774725, 'VirtualAlloc': 1.8365012677171206, 'GetWindowTextLengthW': 6.643856189774724, 'CoInitializeSecurity': 5.643856189774724, 'ImmReleaseContext': 4.321928094887363, 'avformat_alloc_context': 6.643856189774724, 'av_stream_get_parser': 6.643856189774724, 'ModifyMenuA': 6.643856189774724, 'ImageList_Write': 5.643856189774724, 'av_parser_close': 6.643856189774724, 'GetLongPathNameW': 6.643856189774724, 'VirtualFree': 1.9434164716336326, 'avfilter_pad_get_type': 6.643856189774724, 'frexp': 5.058893689053568, 'GlobalLock': 3.473931188332412, 'ChangeTimerQueueTimer': 6.643856189774724, 'ReportEventW': 6.643856189774724, 'GetFileVersionInfoExW': 6.643856189774724, 'ImageList_DragEnter': 5.643856189774724, 'PathFindExtensionA': 6.643856189774724, 'LoadIconA': 4.643856189774724, 'SetErrorInfo': 5.058893689053568, 'ShellExecuteExA': 6.643856189774724, 'EtwEventWriteTransfer': 6.643856189774724, 'av_buffersink_set_frame_size': 6.643856189774724, 'RegDeleteKeyExW': 6.643856189774724, 'GetViewportOrgEx': 5.643856189774724, 'SetupDiGetDeviceInfoListDetailA': 6.643856189774724, 'BCryptFinishHash': 6.643856189774724, 'GetPrivateProfileIntA': 6.643856189774724, 'SetWindowPos': 3.321928094887362, 'GetPrivateProfileIntW': 5.058893689053568, 'GdipCreateFromHDC': 5.643856189774724, 'DebugBreak': 4.321928094887363, 'avfilter_graph_alloc_filter': 6.643856189774724, 'setlocale': 4.643856189774724, 'ShellExecuteExW': 5.643856189774724, '__p__fmode': 4.321928094887363, 'SetConsoleTitleW': 6.643856189774724, 'swr_get_class': 6.643856189774724, 'GetMenuItemInfoA': 6.643856189774724, 'GetMenuItemInfoW': 5.058893689053568, 'send': 4.643856189774724, 'GetMessageTime': 4.321928094887363, 'av_codec_is_encoder': 6.643856189774724, 'TextOutW': 3.8365012677171206, 'PowerDuplicateScheme': 5.058893689053568, 'GetStdHandle': 1.15200309344505, 'av_packet_get_side_data': 6.643856189774724, 'CharNextW': 3.643856189774725, 'ftell': 5.058893689053568, 'FreeLibrary': 1.7858751946471525, 'OleUIBusyW': 5.058893689053568, 'av_format_set_video_codec': 6.643856189774724, 'remove': 6.643856189774724, 'SetCaretPos': 5.058893689053568, 'iswspace': 6.643856189774724, 'TlsAlloc': 1.286304185156641, 'avdevice_register_all': 6.643856189774724, 'IsBrowserProcess': 6.643856189774724, 'SysAllocStringLen': 3.473931188332412, 'GetConsoleMode': 1.217591435072627, 'GetBkColor': 4.643856189774724, 'BitBlt': 3.8365012677171206, 'IsWindowVisible': 3.321928094887362, 'OpenEventA': 6.643856189774724, 'GetClassInfoA': 6.643856189774724, 'UnhandledExceptionFilter': 1.434402824145775, 'IsMenu': 5.643856189774724, 'VerSetConditionMask': 5.058893689053568, 'ResolveDelayLoadedAPI': 5.643856189774724, 'OleRun': 6.643856189774724, 'SetWindowsHookExA': 4.643856189774724, 'av_bprint_chars': 6.643856189774724, 'OleCreateFontIndirect': 4.643856189774724, 'SHBrowseForFolderA': 4.643856189774724, 'DrawTextExW': 4.058893689053568, 'LoadKeyboardLayoutW': 5.643856189774724, 'CreateAcceleratorTableA': 5.643856189774724, 'CoSuspendClassObjects': 6.643856189774724, 'DragQueryFileW': 6.643856189774724, 'CoDisconnectObject': 5.643856189774724, 'Sleep': 1.8365012677171206, 'GrayStringA': 6.643856189774724, 'InitCommonControlsEx': 3.643856189774725, 'PrefetchVirtualMemory': 6.643856189774724, 'GetShortPathNameW': 5.058893689053568, 'RedrawWindow': 4.643856189774724, '_CxxThrowException': 5.058893689053568, 'GetBoundsRect': 5.643856189774724, 'LockResource': 2.643856189774725, 'av_get_channel_name': 6.643856189774724, '__setusermatherr': 3.0588936890535687, 'GetLogicalDriveStringsW': 6.643856189774724, 'FreeResource': 4.058893689053568, 'GetLocaleInfoA': 3.473931188332412, 'OffsetRect': 3.8365012677171206, 'av_pix_fmt_desc_next': 6.643856189774724, 'RemoveVectoredExceptionHandler': 6.643856189774724, 'lstrcmpW': 4.321928094887363, 'SHGetKnownFolderPath': 5.643856189774724, 'GetNearestColor': 5.058893689053568, 'memcmp': 3.8365012677171206, 'GetProcessHeap': 1.8365012677171206, 'MsgWaitForMultipleObjects': 4.643856189774724, 'av_get_sample_fmt': 6.643856189774724, 'RtlCaptureContext': 2.395928676331139, 'ImageList_GetImageCount': 5.643856189774724, 'GetIconInfo': 4.643856189774724, 'SetEvent': 1.6438561897747246, 'WriteConsoleInputA': 6.643856189774724, 'CoTaskMemFree': 2.9434164716336326, 'ReadConsoleInputA': 5.643856189774724, 'av_opt_ptr': 6.643856189774724, 'DecodePointer': 2.5563933485243853, 'DefWindowProcA': 4.321928094887363, 'DrawThemeParentBackground': 5.643856189774724, 'GetObjectW': 4.321928094887363, 'ImageList_Add': 5.643856189774724, 'Rectangle': 4.058893689053568, 'SHGetFolderPathW': 4.643856189774724, 'SetStretchBltMode': 5.643856189774724, 'OpenSCManagerW': 4.643856189774724, 'GetProcessTimes': 4.321928094887363, 'UnregisterClassA': 4.321928094887363, 'SetROP2': 3.8365012677171206, 'GetThreadId': 5.058893689053568, 'av_codec_is_decoder': 6.643856189774724, 'ExcludeClipRect': 4.643856189774724, 'WaitForInputIdle': 4.643856189774724, 'DrawFocusRect': 4.321928094887363, 'GetWindowLongW': 3.643856189774725, 'CloseClipboard': 4.058893689053568, 'GetKeyboardLayoutNameW': 5.643856189774724, 'SetSecurityDescriptorDacl': 3.8365012677171206, 'GetProcessMitigationPolicy': 5.643856189774724, 'SetFileAttributesA': 4.058893689053568, 'cos': 5.058893689053568, 'SetCurrentDirectoryW': 4.058893689053568, 'RectVisible': 3.8365012677171206, 'FreeEnvironmentStringsW': 1.3584539709124765, 'EqualSid': 5.058893689053568, 'InterlockedDecrement': 3.321928094887362, 'LCMapStringW': 1.9434164716336326, 'CreateFileW': 1.6438561897747246, 'printf': 5.058893689053568, 'GetTextCharset': 5.058893689053568, 'av_frame_get_best_effort_timestamp': 6.643856189774724, 'sscanf': 5.058893689053568, 'FindNextFileW': 2.473931188332412, 'SetProcessPriorityBoost': 2.8365012677171206, 'StretchDIBits': 5.058893689053568, 'ScaleWindowExtEx': 4.321928094887363, 'VarUI4FromStr': 5.643856189774724, 'EncodePointer': 2.1844245711374275, 'wcscat_s': 6.643856189774724, '_initterm_e': 3.643856189774725, 'GetInstallDetailsPayload': 6.643856189774724, 'K32EnumProcessModules': 6.643856189774724, 'RegisterApplicationRestart': 6.643856189774724, 'ReadFile': 2.1202942337177118, 'CreateWaitableTimerExW': 2.8365012677171206, 'FlatSB_SetScrollInfo': 5.643856189774724, 'GetWindowLongA': 4.321928094887363, 'SetupDiGetDeviceRegistryPropertyW': 6.643856189774724, 'TerminateJobObject': 6.643856189774724, 'GetLayout': 5.643856189774724, 'BCryptCloseAlgorithmProvider': 6.643856189774724, '_fmode': 5.058893689053568, 'CreateMenu': 3.8365012677171206, '_XcptFilter': 4.643856189774724, '__p___argv': 3.1844245711374275, 'GetFileSizeEx': 2.736965594166206, 'FindVolumeClose': 6.643856189774724, 'avio_close': 6.643856189774724, 'FileTimeToLocalFileTime': 4.321928094887363, 'SendDlgItemMessageA': 4.643856189774724, 'OffsetWindowOrgEx': 5.643856189774724, 'LoadImageA': 6.643856189774724, 'LoadCursorW': 3.643856189774725, 'SetConsoleCtrlHandler': 2.1844245711374275, 'LoadAcceleratorsW': 5.643856189774724, 'EnterCriticalSection': 1.5563933485243855, 'ResetEvent': 3.0588936890535687, 'ReleaseMutex': 4.058893689053568, 'GetShortPathNameA': 4.643856189774724, 'IsChild': 4.058893689053568, 'avcodec_get_name': 6.643856189774724, 'GetModuleHandleW': 1.3584539709124765, 'UnhookWinEvent': 6.643856189774724, '_set_new_mode': 3.643856189774725, '_configthreadlocale': 3.643856189774725, 'GetThemePartSize': 5.643856189774724, 'GetSystemTime': 6.643856189774724, 'GetClassLongPtrA': 6.643856189774724, 'GetLogicalProcessorInformation': 5.643856189774724, 'MoveFileA': 4.643856189774724, 'SetProcessDPIAware': 6.643856189774724, 'avfilter_graph_queue_command': 6.643856189774724, 'av_packet_new_side_data': 6.643856189774724, 'avcodec_descriptor_get_by_name': 6.643856189774724, 'GetOpenFileNameA': 5.058893689053568, 'SetTimer': 3.321928094887362, 'GetCommState': 5.058893689053568, 'LoadLibraryA': 2.395928676331139, 'EqualRect': 4.643856189774724, 'GetFullPathNameW': 2.8365012677171206, 'RegCopyTreeW': 6.643856189774724, 'FindWindowExW': 5.643856189774724, 'GetFileAttributesExA': 6.643856189774724, 'DuplicateTokenEx': 6.643856189774724, 'LoadCursorA': 4.321928094887363, 'RtlPublishWnfStateData': 6.643856189774724, 'PowerSetActiveScheme': 5.058893689053568, 'swprintf': 5.058893689053568, 'RtlVirtualUnwind': 2.321928094887362, 'SetupDiGetDeviceInstanceIdA': 6.643856189774724, 'K32GetModuleFileNameExW': 6.643856189774724, 'wcslen': 4.643856189774724, 'GdipGetImagePaletteSize': 5.643856189774724, 'RegisterWindowMessageW': 4.058893689053568, 'GetFileAttributesW': 2.736965594166206, 'avformat_version': 6.643856189774724, 'MappingFreeServices': 6.643856189774724, 'ImmDisableTextFrameService': 6.643856189774724, 'WSAAsyncSelect': 5.058893689053568, 'GetCommandLineW': 1.6896598793878495, 'avformat_seek_file': 6.643856189774724, '??0exception@@QEAA@AEBQEBDH@Z': 6.643856189774724, 'RegFlushKey': 4.643856189774724, 'malloc': 3.643856189774725, 'EnableWindow': 3.1844245711374275, 'CreateEventA': 2.473931188332412, 'UpdateLayeredWindow': 5.643856189774724, 'GetObjectType': 5.643856189774724, 'av_frame_get_buffer': 6.643856189774724, 'WerSetFlags': 3.321928094887362, 'MoveFileExW': 6.643856189774724, 'SetDefaultDllDirectories': 6.643856189774724, 'K32GetModuleBaseNameW': 6.643856189774724, 'UnrealizeObject': 5.643856189774724, 'PowerGetActiveScheme': 5.058893689053568, 'PathIsUNCW': 5.058893689053568, 'ConnectNamedPipe': 4.643856189774724, 'OffsetRgn': 5.643856189774724, 'SetupDiSetClassInstallParamsA': 6.643856189774724, 'GetUserNameA': 5.058893689053568, 'CreateRoundRectRgn': 5.643856189774724, 'RegCreateKeyExW': 3.473931188332412, 'fmod': 5.058893689053568, 'RtlFormatCurrentUserKeyPath': 6.643856189774724, 'av_log': 6.643856189774724, 'mktime': 5.058893689053568, 'FlatSB_GetScrollInfo': 5.643856189774724, 'UnregisterDeviceNotification': 6.643856189774724, '_time64': 6.643856189774724, 'GetProfileIntW': 6.643856189774724, 'UnpackDDElParam': 5.643856189774724, 'PathStripPathW': 6.643856189774724, '_fpreset': 6.643856189774724, 'GetComputerNameW': 5.058893689053568, 'SetWindowLongA': 4.321928094887363, 'StrStrIA': 5.643856189774724, 'MappingRecognizeText': 6.643856189774724, 'SetFocus': 3.473931188332412, 'GetCursor': 5.643856189774724, 'SendMessageA': 4.058893689053568, 'GetMapMode': 4.058893689053568, 'avcodec_version': 6.643856189774724, 'UnregisterWait': 5.643856189774724, 'av_get_channel_layout_string': 6.643856189774724, 'GetComputerNameA': 4.643856189774724, 'SetWindowLongPtrW': 5.643856189774724, 'CopyIcon': 5.643856189774724, 'GetFullPathNameA': 4.321928094887363, 'Polygon': 4.321928094887363, 'avcodec_alloc_context3': 6.643856189774724, 'SetPixelV': 5.643856189774724, 'GetModuleFileNameA': 2.643856189774725, 'IsThemeBackgroundPartiallyTransparent': 5.643856189774724, 'ReleaseSRWLockShared': 6.643856189774724, 'SetBrushOrgEx': 4.321928094887363, 'GetPrivateProfileStringW': 4.643856189774724, 'GetMenuItemCount': 3.321928094887362, '__C_specific_handler': 3.1844245711374275, '_wtoi64': 6.643856189774724, 'GetLargestConsoleWindowSize': 6.643856189774724, 'av_codec_next': 6.643856189774724, 'ImageList_BeginDrag': 5.643856189774724, 'av_log_format_line': 6.643856189774724, 'CopyAcceleratorTableA': 6.643856189774724, 'av_dump_format': 6.643856189774724, 'K32GetPerformanceInfo': 6.643856189774724, '_amsg_exit': 5.643856189774724, 'strcoll': 6.643856189774724, 'GetUserDefaultLocaleName': 6.643856189774724, 'RtlUnwindEx': 3.473931188332412, 'StretchBlt': 4.643856189774724, 'GetClassLongPtrW': 6.643856189774724, 'FlatSB_SetScrollPos': 5.643856189774724, 'LocalFileTimeToFileTime': 6.643856189774724, 'PathAppendW': 6.643856189774724, 'SetMenuItemInfoW': 5.058893689053568, 'FlushViewOfFile': 6.643856189774724, 'socket': 4.643856189774724, 'DoDragDrop': 5.643856189774724, 'CreateRectRgnIndirect': 3.8365012677171206, '??1exception@@UEAA@XZ': 5.643856189774724, 'RaiseException': 1.8365012677171206, 'GetWindowsDirectoryW': 3.8365012677171206, 'AddAccessAllowedAce': 5.058893689053568, 'SetConsoleCursorPosition': 6.643856189774724, 'GetDiskFreeSpaceW': 5.058893689053568, '_fdopen': 5.058893689053568, 'RaiseFailFastException': 3.321928094887362, 'CloseDesktop': 5.643856189774724, 'GetSidLengthRequired': 6.643856189774724, 'SafeArrayCreate': 5.643856189774724, 'DefFrameProcW': 5.058893689053568, 'avcodec_copy_context': 6.643856189774724, 'ExtTextOutA': 4.643856189774724, 'UnlockFile': 4.643856189774724, 'GdipCreateBitmapFromStream': 5.643856189774724, 'IsDBCSLeadByte': 5.058893689053568, 'LoadCursorFromFileA': 5.058893689053568, 'BCryptDestroyHash': 6.643856189774724, 'GdipFree': 5.643856189774724, '_setmode': 4.643856189774724, 'av_strstart': 6.643856189774724, 'GetMonitorInfoA': 6.643856189774724, 'sprintf': 5.058893689053568, 'SHGetMalloc': 5.058893689053568, 'OleTranslateAccelerator': 5.643856189774724, 'AlphaBlend': 4.643856189774724, 'swr_alloc': 6.643856189774724, 'GdipAlloc': 5.643856189774724, 'CreateFontW': 6.643856189774724, 'AddVectoredExceptionHandler': 2.736965594166206, 'GetModuleBaseNameW': 6.643856189774724, 'avformat_get_class': 6.643856189774724, 'MonitorFromPoint': 5.643856189774724, 'Polyline': 4.321928094887363, 'GetCurrentDirectoryW': 3.321928094887362, 'RealizePalette': 3.8365012677171206, 'av_buffer_default_free': 6.643856189774724, '_except_handler3': 6.643856189774724, 'GetErrorMode': 3.321928094887362, 'DrawMenuBar': 3.8365012677171206, 'avfilter_get_by_name': 6.643856189774724, 'SetThreadInformation': 5.058893689053568, 'MappingFreePropertyBag': 6.643856189774724, 'PowerWriteFriendlyName': 5.058893689053568, 'GetVolumePathNamesForVolumeNameA': 6.643856189774724, 'HeapQueryInformation': 5.058893689053568, 'LoadMenuA': 6.643856189774724, '??0exception@@QEAA@XZ': 5.643856189774724, 'av_realloc_f': 6.643856189774724, 'wcscmp': 4.058893689053568, 'SetActiveWindow': 3.473931188332412, 'SymInitialize': 5.643856189774724, 'LockWindowUpdate': 5.643856189774724, 'av_frame_copy_props': 6.643856189774724, 'OpenProcess': 3.8365012677171206, 'GetFocus': 3.321928094887362, '_fullpath': 6.643856189774724, 'getpeername': 5.058893689053568, 'CompareFileTime': 4.058893689053568, 'av_parser_init': 6.643856189774724, '_get_osfhandle': 5.058893689053568, 'SetThreadPriority': 3.321928094887362, 'PowerWriteACValueIndex': 5.058893689053568, 'av_opt_child_class_next': 6.643856189774724, 'av_opt_find': 6.643856189774724, 'RegisterDragDrop': 5.643856189774724, 'QueryDepthSList': 6.643856189774724, 'MSEGetAllDriveInfo': 6.643856189774724, 'GetFileVersionInfoW': 4.643856189774724, 'CreateDirectoryA': 4.643856189774724, '_set_fmode': 3.643856189774725, 'GetSystemDirectoryA': 2.736965594166206, 'strpbrk': 5.058893689053568, 'avcodec_find_encoder_by_name': 6.643856189774724, '_crt_atexit': 3.643856189774725, 'connect': 4.643856189774724, 'ImageList_SetBkColor': 5.643856189774724, 'SHGetDesktopFolder': 4.321928094887363, 'SetThreadContext': 2.8365012677171206, 'BringWindowToTop': 5.643856189774724, 'CreatePolygonRgn': 5.643856189774724, 'terminate': 3.643856189774725, 'ProcessIdToSessionId': 6.643856189774724, '_wcstoi64': 6.643856189774724, 'CharUpperBuffW': 5.058893689053568, 'av_fopen_utf8': 6.643856189774724, 'DragQueryFileA': 6.643856189774724, 'SetScrollRange': 4.643856189774724, 'EnumSystemLocalesEx': 6.643856189774724, 'swresample_version': 6.643856189774724, 'wcspbrk': 6.643856189774724, 'OleCreateMenuDescriptor': 5.643856189774724, 'avio_flush': 6.643856189774724, 'OpenProcessToken': 4.321928094887363, 'av_dict_set': 6.643856189774724, 'ReadConsoleOutputW': 6.643856189774724, 'tolower': 4.643856189774724, 'TryAcquireSRWLockExclusive': 5.058893689053568, 'av_parser_change': 6.643856189774724, 'GetClientRect': 3.321928094887362, 'InitOnceExecuteOnce': 5.058893689053568, 'DeleteDC': 3.321928094887362, '_controlfp': 6.643856189774724, 'av_find_nearest_q_idx': 6.643856189774724, 'localtime': 5.058893689053568, 'av_freep': 6.643856189774724, 'CopyMetaFileA': 6.643856189774724, 'av_get_bits_per_pixel': 6.643856189774724, 'vswprintf_s': 6.643856189774724, 'SetupDiDestroyDeviceInfoList': 6.643856189774724, 'OleGetClipboard': 5.643856189774724, 'SetScrollPos': 4.643856189774724, 'RoUninitialize': 5.643856189774724, 'GetProcessWindowStation': 6.643856189774724, 'SetUnhandledExceptionFilter': 0.9434164716336326, 'ImageList_SetImageCount': 5.643856189774724, 'GetSecurityDescriptorSacl': 5.058893689053568, '??0exception@@QEAA@AEBV0@@Z': 5.643856189774724, 'GetDIBColorTable': 5.643856189774724, 'IUnknown_QueryInterface_Proxy': 6.643856189774724, 'TranslateAcceleratorA': 6.643856189774724, 'CloseThreadpoolTimer': 6.643856189774724, 'av_get_sample_fmt_string': 6.643856189774724, 'SearchPathW': 4.643856189774724, 'RegisterServiceCtrlHandlerW': 6.643856189774724, 'EnumDisplayMonitors': 5.643856189774724, 'GdipDrawImageI': 5.643856189774724, 'FlatSB_SetScrollProp': 5.643856189774724, 'ToAscii': 5.058893689053568, 'VariantClear': 2.736965594166206, 'NtClose': 6.643856189774724, 'timeEndPeriod': 5.643856189774724, 'GetClassNameW': 4.321928094887363, 'ReuseDDElParam': 5.643856189774724, 'CryptReleaseContext': 6.643856189774724, 'av_codec_get_lowres': 6.643856189774724, 'free': 3.643856189774725, 'CreateWindowExA': 4.321928094887363, 'avfilter_next': 6.643856189774724, 'SafeArrayAccessData': 5.643856189774724, 'ldexp': 5.058893689053568, 'SetPixel': 4.643856189774724, 'GetProcessHeaps': 6.643856189774724, 'CreateRemoteThread': 6.643856189774724, 'av_opt_set_int': 6.643856189774724, 'avfilter_version': 6.643856189774724, 'DefFrameProcA': 6.643856189774724, 'GetDriveTypeW': 4.321928094887363, 'acos': 5.058893689053568, 'avformat_match_stream_specifier': 6.643856189774724, 'avdevice_configuration': 6.643856189774724, 'GetVolumeInformationA': 4.643856189774724, 'DefMDIChildProcW': 5.058893689053568, '?what@exception@@UEBAPEBDXZ': 6.643856189774724, 'av_dict_get': 6.643856189774724, 'GetFileVersionInfoA': 6.643856189774724, 'SetScrollInfo': 3.8365012677171206, 'IsCharLowerW': 6.643856189774724, 'GetDC': 3.321928094887362, 'DeleteFileW': 3.0588936890535687, '_itow_s': 6.643856189774724, 'GetVolumeNameForVolumeMountPointA': 6.643856189774724, 'SetVolumeLabelA': 6.643856189774724, 'avio_close_dyn_buf': 6.643856189774724, 'CreateProcessW': 3.1844245711374275, 'SymSetOptions': 5.643856189774724, 'PlaySoundW': 6.643856189774724, 'RegEnumKeyA': 6.643856189774724, 'CompareStringA': 4.643856189774724, 'GetTimeZoneInformation': 2.8365012677171206, 'LockFile': 4.643856189774724, 'GetFileVersionInfoSizeW': 4.643856189774724, 'IsWindowUnicode': 4.643856189774724, 'GetCurrentDirectoryA': 4.643856189774724, 'GetWindowTextW': 3.473931188332412, 'OpenThreadToken': 5.058893689053568, 'av_read_frame': 6.643856189774724, 'sws_isSupportedInput': 6.643856189774724, 'HeapSetInformation': 4.321928094887363, 'RealGetWindowClassW': 6.643856189774724, '_get_narrow_winmain_command_line': 6.643856189774724, 'CreateDialogIndirectParamA': 6.643856189774724, '_register_onexit_function': 3.643856189774725, 'GlobalFlags': 4.321928094887363, 'RegisterClassExA': 4.643856189774724, 'av_stream_get_end_pts': 6.643856189774724, 'CreateDIBitmap': 3.8365012677171206, 'Process32FirstW': 5.643856189774724, 'SetFilePointerEx': 2.321928094887362, 'RegEnumValueW': 5.643856189774724, 'SetPolyFillMode': 4.321928094887363, 'avutil_version': 6.643856189774724, 'UnregisterPowerSettingNotification': 6.643856189774724, 'CheckTokenMembership': 6.643856189774724, 'fwrite': 4.321928094887363, 'Arc': 5.058893689053568, 'ScrollWindowEx': 5.058893689053568, 'CM_Get_Device_ID_ExA': 6.643856189774724, 'InitializeSid': 6.643856189774724, 'CreateBindCtx': 5.058893689053568, '_exit': 3.0588936890535687, 'DrawTextA': 6.643856189774724, 'EmptyClipboard': 4.058893689053568, 'fgetc': 6.643856189774724, 'CM_Request_Device_EjectW': 6.643856189774724, 'CallNextHookEx': 3.321928094887362, 'av_reduce': 6.643856189774724, 'CloseHandle': 1.0291463456595165, 'sws_get_class': 6.643856189774724, 'Escape': 4.321928094887363, 'TrackPopupMenu': 3.8365012677171206, 'GetShellWindow': 6.643856189774724, 'CreateActCtxW': 6.643856189774724, 'av_opt_show2': 6.643856189774724, 'SystemParametersInfoA': 3.8365012677171206, 'GetProfileIntA': 6.643856189774724, 'CoMarshalInterThreadInterfaceInStream': 6.643856189774724, 'RemoveDirectoryW': 4.058893689053568, 'CLSIDFromString': 4.058893689053568, '_acmdln': 6.643856189774724, 'PtInRect': 4.321928094887363, 'CoFreeUnusedLibraries': 5.058893689053568, 'LocalAlloc': 3.473931188332412, 'MoveToEx': 4.643856189774724, 'av_buffersrc_add_ref': 6.643856189774724, 'avio_seek': 6.643856189774724, 'GetLogicalDriveStringsA': 5.058893689053568, 'VirtualProtectEx': 6.643856189774724, 'InitializeCriticalSectionAndSpinCount': 1.9434164716336326, 'GdipGetImageGraphicsContext': 5.643856189774724, 'avfilter_inout_free': 6.643856189774724, 'CreateHatchBrush': 5.643856189774724, 'listen': 4.643856189774724, 'ExtFloodFill': 5.643856189774724, 'SetRectRgn': 4.321928094887363, 'WaitForSingleObject': 1.3219280948873624, 'ScrollWindow': 4.643856189774724, 'av_sdp_create': 6.643856189774724, 'EnableMenuItem': 3.8365012677171206, 'StringFromCLSID': 5.643856189774724, 'CancelIo': 5.058893689053568, 'GetACP': 1.7369655941662063, 'ImageList_GetIconSize': 5.643856189774724, 'AssignProcessToJobObject': 5.643856189774724, 'GetTextFaceA': 4.643856189774724, '??1type_info@@UEAA@XZ': 5.058893689053568, 'StgCreateDocfileOnILockBytes': 5.058893689053568, 'av_interleaved_write_frame': 6.643856189774724, 'ImageList_Create': 5.643856189774724, 'CallWindowProcW': 3.321928094887362, 'LoadResource': 2.5563933485243853, '__acrt_iob_func': 3.643856189774725, 'GetLastActivePopup': 3.8365012677171206, 'avpicture_fill': 6.643856189774724, 'SetMapMode': 3.473931188332412, 'WinHelpA': 6.643856189774724, 'CharUpperW': 3.8365012677171206, 'fread': 4.321928094887363, 'avformat_close_input': 6.643856189774724, 'TlsFree': 1.7369655941662063, 'SetCursorPos': 4.321928094887363, 'LoadStringW': 4.643856189774724, 'GlobalGetAtomNameA': 6.643856189774724, 'K32EnumProcesses': 6.643856189774724, 'avformat_configuration': 6.643856189774724, 'WriteConsoleW': 1.2515387669959643, 'avfilter_graph_request_oldest': 6.643856189774724, 'SetThreadpoolTimer': 6.643856189774724, 'DelayLoadFailureHook': 5.643856189774724, 'StrChrW': 6.643856189774724, 'ioctlsocket': 4.643856189774724, 'GetSystemPaletteEntries': 4.643856189774724, 'gethostbyaddr': 5.058893689053568, 'GlobalAddAtomW': 4.058893689053568, 'FillRect': 3.8365012677171206, 'GetConsoleCP': 2.1844245711374275, 'GetUserNameW': 5.058893689053568, 'GetStockObject': 3.321928094887362, 'GetFileAttributesExW': 3.643856189774725, 'IsDebuggerPresent': 1.434402824145775, 'UpdateWindow': 3.473931188332412, 'VariantCopy': 3.8365012677171206, 'av_get_channel_layout': 6.643856189774724, '_set_app_type': 3.643856189774725, 'SysStringByteLen': 4.321928094887363, 'SetWindowLongPtrA': 6.643856189774724, 'GetAclInformation': 5.058893689053568, 'ImmSetCompositionWindow': 5.058893689053568, 'av_strlcat': 6.643856189774724, 'FrameRgn': 4.643856189774724, '_tzset': 5.058893689053568, 'WriteFile': 1.1202942337177118, 'DestroyMenu': 3.321928094887362, 'GetMenu': 3.8365012677171206, 'GetDiskFreeSpaceA': 6.643856189774724, 'strcat': 4.643856189774724, 'TransparentBlt': 5.643856189774724, 'FindActCtxSectionStringW': 6.643856189774724, 'Process32NextW': 5.643856189774724, 'WriteConsoleInputW': 6.643856189774724, 'SetThreadLocale': 5.643856189774724, 'Wow64GetThreadContext': 6.643856189774724, 'InitOnceComplete': 5.643856189774724, 'WriteConsoleOutputW': 6.643856189774724, 'EnumFontFamiliesExA': 6.643856189774724, 'ntohl': 6.643856189774724, 'ImageList_GetDragImage': 5.643856189774724, 'GetThreadTimes': 6.643856189774724, 'GetKeyboardLayoutList': 5.058893689053568, 'DeleteAce': 5.643856189774724, 'GetFontData': 5.058893689053568, 'av_strcasecmp': 6.643856189774724, 'VirtualProtect': 3.0588936890535687, 'IsWow64Process': 5.058893689053568, 'NotifyWinEvent': 5.643856189774724, 'CLSIDFromProgID': 4.643856189774724, 'SendInput': 4.643856189774724, 'GetWindowThreadProcessId': 3.643856189774725, 'av_codec_get_tag2': 6.643856189774724, 'strtok': 6.643856189774724, 'GetSubMenu': 3.8365012677171206, 'GetWindowRect': 3.321928094887362, 'ModifyMenuW': 4.643856189774724, 'GetSystemInfo': 1.7858751946471525, 'ImageList_Remove': 5.643856189774724, 'GetCursorPos': 3.321928094887362, 'HeapReAlloc': 2.0588936890535687, 'GetExitCodeThread': 3.8365012677171206, '_callnewh': 5.643856189774724, 'CreateStdAccessibleObject': 5.643856189774724, 'SetWindowTextA': 4.321928094887363, 'MapVirtualKeyExW': 5.643856189774724, 'SetupDiEnumDeviceInfo': 5.058893689053568, 'UnhookWindowsHookEx': 3.321928094887362, 'RegQueryInfoKeyW': 5.058893689053568, 'MessageBoxA': 3.643856189774725, 'GetSystemPowerStatus': 6.643856189774724, 'SetWindowExtEx': 4.321928094887363, 'wcsncmp': 4.643856189774724, '_configure_narrow_argv': 3.643856189774725, 'sws_isSupportedOutput': 6.643856189774724, 'OffsetClipRgn': 5.058893689053568, 'av_packet_split_side_data': 6.643856189774724, 'GetFileTime': 4.058893689053568, 'RegDeleteKeyA': 5.643856189774724, 'GetTempPathW': 3.473931188332412, '__set_app_type': 3.643856189774725, 'WritePrivateProfileStringW': 4.321928094887363, 'MapDialogRect': 4.643856189774724, 'WriteConsoleA': 3.8365012677171206, 'GetNextDlgGroupItem': 4.643856189774724, 'VirtualAllocEx': 6.643856189774724, 'CreateFileMoniker': 5.058893689053568, 'QueryPerformanceFrequency': 3.473931188332412, 'VariantChangeType': 3.1844245711374275, 'FlsSetValue': 3.8365012677171206, 'SymSetSearchPathW': 5.643856189774724, 'TabbedTextOutW': 4.643856189774724, 'K32GetProcessMemoryInfo': 5.643856189774724, 'LresultFromObject': 5.643856189774724, 'OffsetViewportOrgEx': 4.321928094887363, 'GetAncestor': 5.643856189774724, 'CreateIconFromResource': 5.058893689053568, 'GetModuleHandleExW': 2.1844245711374275, 'GetThreadContext': 2.736965594166206, 'av_filename_number_test': 6.643856189774724, 'av_get_media_type_string': 6.643856189774724, 'CreateServiceW': 6.643856189774724, 'av_bprint_finalize': 6.643856189774724, 'avdevice_version': 6.643856189774724, 'SetPriorityClass': 6.643856189774724, 'ToAsciiEx': 6.643856189774724, 'GetForegroundWindow': 3.1844245711374275, 'SetConsoleMode': 3.643856189774725, 'SetRectEmpty': 5.643856189774724, '_wcmdln': 5.643856189774724, 'SetMenu': 3.321928094887362, 'NtQueryValueKey': 6.643856189774724, 'ScaleViewportExtEx': 4.321928094887363, 'GetProcAddress': 1.0291463456595165, 'GetMessageW': 3.1844245711374275, 'GetThreadPriority': 4.643856189774724, 'av_get_picture_type_char': 6.643856189774724, '_initialize_onexit_table': 3.643856189774725, 'UuidCreateSequential': 6.643856189774724, 'TlsGetValue': 1.6896598793878495, 'StrFormatKBSizeW': 6.643856189774724, 'CreateConsoleScreenBuffer': 6.643856189774724, 'GetMenuStringA': 6.643856189774724, 'GdiplusStartup': 5.643856189774724, '_vsnprintf_s': 5.643856189774724, 'CryptGenRandom': 6.643856189774724, 'InterlockedPopEntrySList': 5.643856189774724, 'EndPaint': 3.473931188332412, 'RegisterWindowMessageA': 5.643856189774724, 'RegDeleteKeyW': 3.8365012677171206, 'SymGetLineFromAddr64': 5.643856189774724, 'IsCharLowerA': 6.643856189774724, 'RegisterDeviceNotificationW': 6.643856189774724, 'strtoul': 5.058893689053568, 'WakeConditionVariable': 5.058893689053568, 'GetWindow': 3.1844245711374275, 'av_log_ask_for_sample': 6.643856189774724, 'ReadConsoleA': 5.058893689053568, '__stdio_common_vsprintf': 6.643856189774724, 'UpdateProcThreadAttribute': 5.058893689053568, '_stricmp': 4.058893689053568, 'InitializeSRWLock': 6.643856189774724, 'GetTextExtentPointA': 5.058893689053568, 'avcodec_encode_video2': 6.643856189774724, 'GetSystemMetrics': 3.0588936890535687, 'DrawThemeText': 5.643856189774724, 'OpenSCManagerA': 6.643856189774724, 'DuplicateHandle': 1.9434164716336326, 'AcquireSRWLockShared': 6.643856189774724, 'CreatePipe': 5.058893689053568, 'CreateDesktopW': 6.643856189774724, 'GetTempPathA': 4.643856189774724, 'GetWindowTheme': 5.643856189774724, 'SizeofResource': 2.8365012677171206, 'av_parse_video_size': 6.643856189774724, 'SysStringLen': 3.321928094887362, 'GetUserDefaultUILanguage': 5.643856189774724, 'GetProcessAffinityMask': 2.643856189774725, 'DeleteService': 6.643856189774724, 'InitializeCriticalSectionEx': 3.473931188332412, 'PostMessageA': 4.643856189774724, 'SelectPalette': 3.8365012677171206, 'CoRevokeInitializeSpy': 5.643856189774724, 'SetSecurityDescriptorOwner': 5.058893689053568, 'RectInRegion': 5.058893689053568, 'PeekMessageA': 4.058893689053568, 'GetKeyboardState': 4.643856189774724, 'GetEnvironmentVariableA': 4.058893689053568, 'DestroyCursor': 4.643856189774724, 'GetTextColor': 4.643856189774724, 'getservbyname': 5.058893689053568, 'FindWindowW': 4.058893689053568, 'OleInitialize': 4.321928094887363, 'SearchPathA': 4.643856189774724, 'AddVectoredContinueHandler': 6.643856189774724, 'GetConsoleWindow': 6.643856189774724, 'RegQueryValueExW': 2.8365012677171206, 'SHGetFileInfoW': 6.643856189774724, 'GetRunningObjectTable': 4.643856189774724, 'SetSecurityDescriptorGroup': 5.058893689053568, 'strspn': 5.058893689053568, 'EnumWindows': 4.058893689053568, 'GlobalFindAtomW': 4.058893689053568, 'GetConsoleProcessList': 6.643856189774724, 'QueryServiceStatusEx': 6.643856189774724, 'GetWindowPlacement': 3.321928094887362, 'PathRemoveFileSpecW': 5.643856189774724, 'SetFileTime': 4.321928094887363, 'CreateBitmap': 3.321928094887362, 'InterlockedFlushSList': 6.643856189774724, 'sqrt': 5.058893689053568, 'av_codec_get_id': 6.643856189774724, 'inet_ntoa': 4.643856189774724, 'VariantInit': 2.9434164716336326, 'InflateRect': 4.643856189774724, 'RegQueryValueExA': 3.473931188332412, 'SysFreeString': 2.736965594166206, 'GetOpenFileNameW': 5.058893689053568, 'AllowSetForegroundWindow': 5.643856189774724, 'GetMenuDefaultItem': 5.643856189774724, 'ExpandEnvironmentStringsW': 4.058893689053568, 'GetBkMode': 5.058893689053568, 'CMPackageRemove': 6.643856189774724, 'av_buffersink_get_frame_flags': 6.643856189774724, 'ReleaseSRWLockExclusive': 4.058893689053568, 'BuildCommDCBW': 5.058893689053568, 'GetStartupInfoA': 3.1844245711374275, 'GdipDrawImageRectI': 5.643856189774724, 'avio_enum_protocols': 6.643856189774724, 'swprintf_s': 6.643856189774724, 'strncmp': 4.643856189774724, 'wcsrchr': 5.643856189774724, 'wcsncpy_s': 6.643856189774724, 'DestroyIcon': 3.8365012677171206, 'K32GetModuleInformation': 5.058893689053568, 'IUnknown_AddRef_Proxy': 6.643856189774724, 'LoadLibraryExA': 3.8365012677171206, 'GetScrollPos': 4.643856189774724, 'SelectClipRgn': 4.321928094887363, 'TransactNamedPipe': 5.643856189774724, 'DrawTextExA': 6.643856189774724, '_initterm': 3.0588936890535687, '_isctype': 4.643856189774724, 'CryptAcquireContextW': 6.643856189774724, 'GetMonitorInfoW': 6.643856189774724, 'DeleteFileA': 4.058893689053568, 'UnlockFileEx': 6.643856189774724, 'DeleteEnhMetaFile': 6.643856189774724, 'GetPropA': 6.643856189774724, 'CreateXmlReader': 6.643856189774724, 'RegDeleteValueA': 6.643856189774724, 'GetPixel': 3.8365012677171206, 'log': 5.058893689053568, 'LeaveCriticalSection': 1.5563933485243855, 'av_rescale_q': 6.643856189774724, 'UuidCreate': 6.643856189774724, 'CreateFileMappingW': 4.643856189774724, '_endthreadex': 5.058893689053568, 'avcodec_descriptor_next': 6.643856189774724, 'SetProcessWindowStation': 6.643856189774724, 'DispatchMessageA': 3.643856189774725, 'CreateProcessA': 4.058893689053568, 'CreateIcon': 5.643856189774724, 'GetLocaleInfoW': 2.643856189774725, 'InitializeAcl': 4.643856189774724, 'wcstombs': 6.643856189774724, 'InterlockedIncrement': 3.321928094887362, 'GetScrollRange': 4.643856189774724, 'GetFileType': 1.7369655941662063, 'gethostbyname': 4.643856189774724, 'av_opt_eval_int': 6.643856189774724, 'GlobalFindAtomA': 6.643856189774724, 'UuidToStringW': 6.643856189774724, 'avio_write': 6.643856189774724, '_stricoll': 6.643856189774724, 'avformat_new_stream': 6.643856189774724, 'CreateToolhelp32Snapshot': 5.643856189774724, 'SafeArrayCreateVector': 6.643856189774724, '__std_type_info_destroy_list': 6.643856189774724, 'LocalReAlloc': 4.321928094887363, 'wcscat': 6.643856189774724, '_purecall': 5.058893689053568, 'PatBlt': 3.8365012677171206, 'wcstol': 5.643856189774724, '_ui64tow_s': 6.643856189774724, 'CreateMutexW': 3.8365012677171206, 'strerror': 5.058893689053568, 'OpenSemaphoreW': 5.643856189774724, 'GetCurrentThread': 2.5563933485243853, 'LoadBitmapW': 3.8365012677171206, 'GetTimeFormatW': 4.058893689053568, 'GetClipBox': 3.8365012677171206, 'SetupDiGetDeviceInterfaceDetailA': 6.643856189774724, 'GdipCloneImage': 5.643856189774724, 'GetSystemDefaultLCID': 6.643856189774724, 'avcodec_descriptor_get': 6.643856189774724, 'IsDialogMessageA': 5.058893689053568, 'SetWindowTextW': 3.643856189774725, 'FindFirstFileW': 3.1844245711374275, 'CreateThread': 1.6438561897747246, 'CreateTimerQueueTimer': 5.643856189774724, 'SignalChromeElf': 6.643856189774724, 'CoUninitialize': 2.9434164716336326, 'av_dict_free': 6.643856189774724, 'swresample_configuration': 6.643856189774724, 'GetClassInfoExA': 5.643856189774724, '_strnicmp': 4.058893689053568, 'SHAppBarMessage': 5.643856189774724, '_crt_at_quick_exit': 6.643856189774724, 'av_bitstream_filter_filter': 6.643856189774724, 'GetCurrentPositionEx': 5.643856189774724, 'NdrOleAllocate': 6.643856189774724, 'VerQueryValueA': 6.643856189774724, '_itow': 5.643856189774724, 'av_buffersink_get_frame_rate': 6.643856189774724, 'FillConsoleOutputAttribute': 6.643856189774724, 'GetCommandLineA': 1.9434164716336326, 'GetViewportExtEx': 4.643856189774724, 'CMUnfilterNonPresentDrives': 6.643856189774724, 'LoadLibraryW': 1.5994620704162712, 'SetupDiGetDevicePropertyW': 6.643856189774724, 'CreateFontIndirectW': 4.058893689053568, 'qsort': 4.321928094887363, 'av_guess_codec': 6.643856189774724, 'GdipDeleteGraphics': 5.643856189774724, 'strtol': 5.058893689053568, 'DrawIcon': 4.058893689053568, 'NdrStubForwardingFunction': 6.643856189774724, 'Pie': 5.058893689053568, 'av_get_sample_fmt_name': 6.643856189774724, 'GetFileVersionInfoSizeExW': 6.643856189774724, 'CreateSolidBrush': 3.8365012677171206, 'IsAccelerator': 5.643856189774724, 'CharNextA': 6.643856189774724, 'fseek': 5.058893689053568, 'getenv': 3.1844245711374275, 'ShowOwnedPopups': 4.643856189774724, '_wfopen': 6.643856189774724, 'SetThreadDesktop': 6.643856189774724, 'OpenServiceW': 4.643856189774724, 'GetSidIdentifierAuthority': 5.058893689053568, 'CloseThemeData': 5.643856189774724, 'IsValidSid': 5.058893689053568, 'av_codec_set_chroma_intra_matrix': 6.643856189774724, 'VariantTimeToSystemTime': 4.643856189774724, '_pctype': 4.643856189774724, 'PeekNamedPipe': 3.643856189774725, 'UnionRect': 5.643856189774724, 'GetCharWidthW': 5.058893689053568, 'strncat': 5.643856189774724, 'avio_r8': 6.643856189774724, 'sws_freeContext': 6.643856189774724, 'RegDeleteTreeW': 6.643856189774724, 'IsValidCodePage': 2.0, 'StrFormatKBSizeA': 6.643856189774724, 'OleLockRunning': 5.058893689053568, 'ImmGetCompositionStringA': 5.058893689053568, 'EnableScrollBar': 4.643856189774724, 'avio_size': 6.643856189774724, 'av_bprint_init': 6.643856189774724, 'sws_getContext': 6.643856189774724, 'EnumFontFamiliesW': 4.643856189774724, 'av_get_audio_frame_duration': 6.643856189774724, '??0exception@@QEAA@AEBQEBD@Z': 6.643856189774724, 'GetMessageA': 4.058893689053568, 'ReadConsoleW': 2.736965594166206, 'avio_w8': 6.643856189774724, 'strchr': 4.643856189774724, 'avcodec_configuration': 6.643856189774724, 'InitializeCriticalSection': 2.395928676331139, 'av_parse_cpu_caps': 6.643856189774724, 'EnumProcessModules': 6.643856189774724, 'ShowScrollBar': 4.643856189774724, 'CharNextExA': 6.643856189774724, 'lstrlenA': 3.8365012677171206, 'WerGetFlags': 3.321928094887362, 'SetEnhMetaFileBits': 6.643856189774724, 'GetDCEx': 5.643856189774724, 'SetWindowContextHelpId': 5.058893689053568, 'avcodec_find_decoder_by_name': 6.643856189774724, 'avfilter_get_class': 6.643856189774724, 'CM_Get_Device_IDA': 6.643856189774724, 'LoadAcceleratorsA': 6.643856189774724, 'CreateItemMoniker': 6.643856189774724, 'PathRemoveExtensionA': 6.643856189774724, 'CreatePenIndirect': 5.643856189774724, 'SetLastError': 1.5994620704162712, 'GetWindowsDirectoryA': 4.643856189774724, 'BuildCommDCBA': 5.058893689053568, 'cosh': 5.058893689053568, 'RtlUnwind': 2.1844245711374275, 'CreateProcessAsUserW': 5.058893689053568, 'avfilter_graph_alloc': 6.643856189774724, 'WriteProcessMemory': 6.643856189774724, 'DeleteMenu': 4.643856189774724, 'PlayEnhMetaFile': 6.643856189774724, 'av_init_packet': 6.643856189774724, 'SetMenuItemBitmaps': 4.321928094887363, 'av_add_q': 6.643856189774724, 'UpdateColors': 5.058893689053568, 'SetFilePointer': 2.9434164716336326, 'WaitForMultipleObjectsEx': 5.058893689053568, 'calloc': 4.058893689053568, 'av_guess_frame_rate': 6.643856189774724, 'GlobalFree': 4.058893689053568, 'avcodec_decode_audio4': 6.643856189774724, 'SetBkColor': 3.321928094887362, 'FindFirstFileExW': 3.0588936890535687, 'PeekMessageW': 3.0588936890535687, 'GetUserDefaultLangID': 5.643856189774724, 'timeBeginPeriod': 5.643856189774724, 'GetClassInfoExW': 4.321928094887363, 'PropVariantClear': 6.643856189774724, 'avfilter_register_all': 6.643856189774724, 'IntersectClipRect': 4.643856189774724, 'avio_find_protocol_name': 6.643856189774724, 'memcpy': 3.643856189774725, 'GetOEMCP': 1.8889686876112561, 'SafeArrayDestroy': 4.321928094887363, 'GetModuleFileNameW': 1.5563933485243855, 'SetupDiSetClassInstallParamsW': 5.643856189774724, 'CombineRgn': 4.321928094887363, 'avio_open': 6.643856189774724, 'av_strlcatf': 6.643856189774724, 'DeferWindowPos': 5.643856189774724, 'DrawThemeBackground': 5.643856189774724, 'SignalInitializeCrashReporting': 6.643856189774724, '__wgetmainargs': 5.643856189774724, 'ClearCommError': 5.058893689053568, 'InvertRect': 5.643856189774724, 'avformat_alloc_output_context2': 6.643856189774724, 'GdiplusShutdown': 5.643856189774724, '_TrackMouseEvent': 5.058893689053568, 'WaitNamedPipeW': 4.643856189774724, 'RegSetValueExA': 5.058893689053568, 'LoadIconW': 3.643856189774725, 'GetMenuItemID': 3.8365012677171206, 'GetCurrentProcessorNumber': 6.643856189774724, 'WindowFromPoint': 3.8365012677171206, 'GetNumaHighestNodeNumber': 6.643856189774724, 'avfilter_graph_parse2': 6.643856189774724, 'CreateCompatibleDC': 3.8365012677171206, 'PostThreadMessageA': 5.643856189774724, 'gmtime': 5.058893689053568, 'GetComputerNameExW': 6.643856189774724, 'OleDuplicateData': 5.643856189774724, 'WSAGetLastError': 4.643856189774724, 'PowerWriteDescription': 5.058893689053568, 'SetDIBColorTable': 4.643856189774724, 'av_max_alloc': 6.643856189774724, 'CreateJobObjectW': 6.643856189774724, 'MonitorFromWindow': 5.643856189774724, 'GetNativeSystemInfo': 5.058893689053568, 'GetUpdateRect': 5.643856189774724, 'av_malloc': 6.643856189774724, 'PostQueuedCompletionStatus': 2.736965594166206, 'ImageList_Destroy': 5.643856189774724, 'avcodec_close': 6.643856189774724, 'LocaleNameToLCID': 6.643856189774724, 'SetupDiGetClassDevsA': 6.643856189774724, 'avcodec_encode_audio2': 6.643856189774724, 'avio_read': 6.643856189774724, 'SetProcessAffinityMask': 6.643856189774724, 'ImageList_DragLeave': 5.643856189774724, 'FlsAlloc': 3.8365012677171206, 'SafeArrayUnlock': 6.643856189774724, 'ScreenToClient': 3.8365012677171206, 'ImageList_Draw': 6.643856189774724, 'GetAsyncKeyState': 4.321928094887363, 'CoGetInterfaceAndReleaseStream': 6.643856189774724, 'GetClipboardData': 4.643856189774724, 'sin': 5.058893689053568, 'CoRegisterClassObject': 5.058893689053568, 'DefWindowProcW': 3.321928094887362, 'SetEntriesInAclW': 5.058893689053568, 'memmove_s': 5.643856189774724, 'SetWinEventHook': 6.643856189774724, 'av_rescale': 6.643856189774724, 'RemoveMenu': 3.8365012677171206, 'SignalObjectAndWait': 5.058893689053568, 'ActivateActCtx': 6.643856189774724, 'NdrOleFree': 6.643856189774724, 'CoLockObjectExternal': 5.643856189774724, 'avcodec_free_context': 6.643856189774724, 'av_write_trailer': 6.643856189774724, 'ConvertDefaultLocale': 5.058893689053568, 'PathFindExtensionW': 4.643856189774724, 'LoadTypeLib': 4.321928094887363, 'CreateEventW': 2.5563933485243853, 'RegisterWaitForSingleObject': 5.058893689053568, 'avcodec_get_class': 6.643856189774724, 'VkKeyScanW': 6.643856189774724, 'fclose': 4.058893689053568, 'CreateWindowStationW': 6.643856189774724, 'GetSecurityDescriptorControl': 6.643856189774724, 'getsockname': 5.058893689053568, 'FindClose': 2.0588936890535687, 'TerminateProcess': 1.8365012677171206, 'StringFromGUID2': 5.058893689053568, 'RevokeDragDrop': 5.643856189774724, 'SetTextAlign': 4.321928094887363, 'Chord': 5.058893689053568, 'DeregisterEventSource': 6.643856189774724, 'IsValidLocale': 3.0588936890535687, 'SetCapture': 3.473931188332412, 'DeleteCriticalSection': 1.5563933485243855, 'CreateIoCompletionPort': 2.736965594166206, 'MaskBlt': 5.643856189774724, 'MapViewOfFile': 3.643856189774725, 'BeginDeferWindowPos': 5.643856189774724, 'LoadMenuW': 5.643856189774724, 'DosDateTimeToFileTime': 6.643856189774724, 'LoadRegTypeLib': 5.643856189774724, 'GetClassInfoW': 4.058893689053568, 'av_opt_set': 6.643856189774724, 'CopySid': 5.058893689053568, 'GdipGetImagePixelFormat': 5.643856189774724, 'CreatePalette': 3.8365012677171206, 'CreateThreadpoolTimer': 6.643856189774724, 'GetKeyboardType': 5.643856189774724}\n",
      "Failed with file:  'NoneType' object has no attribute 'decode'\n",
      "TF_IDF:  None\n"
     ]
    }
   ],
   "source": [
    "from math import log2\n",
    "\n",
    "# Returns all imports in the training dataset\n",
    "def getGlobalImpVocab(training_files: list):\n",
    "    import_vocab = set()\n",
    "    for file_path in training_files:\n",
    "        try: \n",
    "            pe = pefile.PE(file_path)\n",
    "            #pe.full_load()\n",
    "\n",
    "            imports = getImports(pe)\n",
    "            for imp in imports:\n",
    "                import_vocab.add(imp)\n",
    "        \n",
    "            pe.close()  # free memory\n",
    "\n",
    "        except Exception as e:\n",
    "            print(\"Failed to read file: \", file_path, e)\n",
    "\n",
    "    return import_vocab\n",
    "\n",
    "\n",
    "def getTrainingIDF(global_import_vocab, training_files: list):\n",
    "    import_count = {imp:0 for imp in global_import_vocab}\n",
    "    IDF = {}\n",
    "\n",
    "    for file_path in training_files:\n",
    "        try:\n",
    "            pe = pefile.PE(file_path)\n",
    "            pe.full_load()\n",
    "\n",
    "            imports = getImports(pe)\n",
    "            for imp in imports:\n",
    "                import_count[imp] = import_count.get(imp, 0) + 1\n",
    "    \n",
    "                \n",
    "        except Exception as e:\n",
    "            print(\"Failed with file: \", file_path)\n",
    "            continue\n",
    "\n",
    "    N = len(training_files)\n",
    "    IDF = {imp:log2(N/import_count[imp]) for imp in import_count.keys()}\n",
    "    return IDF\n",
    "\n",
    "\n",
    "def get_TF_IDF(global_import_vocab, training_IDF, new_file):\n",
    "    TF_IDF = {imp:0 for imp in global_import_vocab}\n",
    "\n",
    "    try:\n",
    "        pe = pefile.PE(new_file)\n",
    "        pe.full_load()\n",
    "\n",
    "        imports = getImports(pe)\n",
    "        for imp in imports:\n",
    "            TF_IDF[imp] += training_IDF[imp]\n",
    "\n",
    "\n",
    "    except Exception as e:\n",
    "        print(\"Failed with file: \", e)\n",
    "        return None\n",
    "\n",
    "    return TF_IDF\n",
    "\n",
    "\n",
    "global_import_vocab = getGlobalImpVocab(files)\n",
    "print(\"global_import_vocab: \", global_import_vocab)\n",
    "\n",
    "IDF = getTrainingIDF(global_import_vocab, files)\n",
    "print(\"IDF: \", IDF)\n",
    "\n",
    "new_test_file = files[0]\n",
    "TF_IDF = get_TF_IDF(global_import_vocab, IDF, new_test_file)\n",
    "print(\"TF_IDF: \", TF_IDF)\n"
   ]
  },
  {
   "cell_type": "markdown",
   "metadata": {},
   "source": [
    "# Import Hash"
   ]
  },
  {
   "cell_type": "markdown",
   "metadata": {},
   "source": [
    "### The import has is unique and deterministic. Basically summarizes all imports into a hash"
   ]
  },
  {
   "cell_type": "code",
   "execution_count": 11,
   "metadata": {},
   "outputs": [
    {
     "name": "stdout",
     "output_type": "stream",
     "text": [
      "04a8d5893e95ecf8d9dd1d1c8967553e\n"
     ]
    }
   ],
   "source": [
    "def get_imp_hash(file: pefile.PE):\n",
    "    return pe.get_imphash()\n",
    "\n",
    "pe = pefile.PE(files[44])\n",
    "print(get_imp_hash(pe))"
   ]
  },
  {
   "cell_type": "markdown",
   "metadata": {},
   "source": [
    "# Exports"
   ]
  },
  {
   "cell_type": "markdown",
   "metadata": {},
   "source": [
    "### Extracts exportable files from the executable and converts it into a md5 hash"
   ]
  },
  {
   "cell_type": "code",
   "execution_count": 33,
   "metadata": {},
   "outputs": [
    {
     "name": "stdout",
     "output_type": "stream",
     "text": [
      "21530e4a259160afbcb6c4ca0e315c3e\n"
     ]
    }
   ],
   "source": [
    "def get_exports(pe):\n",
    "    if not hasattr(pe, 'DIRECTORY_ENTRY_EXPORT'):\n",
    "        return []\n",
    "    \n",
    "    exports = []\n",
    "    for e in pe.DIRECTORY_ENTRY_EXPORT.symbols:\n",
    "        name = e.name.decode() if e.name else f\"ord{e.ordinal}\"\n",
    "        #print(\"e.name.decode(): \", e.name.decode())\n",
    "        #print(\"e.ordinal: \", e.ordinal)\n",
    "        exports.append(name)\n",
    "    \n",
    "    #print(\"bef. exports: \", exports)\n",
    "    exports_str = \",\".join(sorted(exports))  # Sort for deterministic hash\n",
    "    #print(\"aft. exports_str: \", exports_str)\n",
    "    return hashlib.md5(exports_str.encode()).hexdigest()\n",
    "\n",
    "\n",
    "pe = pefile.PE(files[44])\n",
    "print(get_exports(pe))"
   ]
  },
  {
   "cell_type": "markdown",
   "metadata": {},
   "source": [
    "# Digital Signature"
   ]
  },
  {
   "cell_type": "markdown",
   "metadata": {},
   "source": [
    "### Checks if the file has a signature."
   ]
  },
  {
   "cell_type": "markdown",
   "metadata": {},
   "source": [
    "### "
   ]
  },
  {
   "cell_type": "code",
   "execution_count": 13,
   "metadata": {},
   "outputs": [
    {
     "name": "stdout",
     "output_type": "stream",
     "text": [
      "True\n"
     ]
    }
   ],
   "source": [
    "def check_digital_signature(pe):\n",
    "    cert_dir = pe.OPTIONAL_HEADER.DATA_DIRECTORY[pefile.DIRECTORY_ENTRY['IMAGE_DIRECTORY_ENTRY_SECURITY']]\n",
    "    return cert_dir.VirtualAddress != 0 and cert_dir.Size != 0\n",
    "\n",
    "pe = pefile.PE(files[44])\n",
    "print(check_digital_signature(pe))"
   ]
  },
  {
   "cell_type": "markdown",
   "metadata": {},
   "source": [
    "# Timestamp"
   ]
  },
  {
   "cell_type": "code",
   "execution_count": 14,
   "metadata": {},
   "outputs": [
    {
     "name": "stdout",
     "output_type": "stream",
     "text": [
      "1744771084\n"
     ]
    }
   ],
   "source": [
    "def get_timestamp(pe):\n",
    "    return pe.FILE_HEADER.TimeDateStamp\n",
    "\n",
    "pe = pefile.PE(files[44])\n",
    "print(get_timestamp(pe))"
   ]
  },
  {
   "cell_type": "code",
   "execution_count": 15,
   "metadata": {},
   "outputs": [
    {
     "name": "stdout",
     "output_type": "stream",
     "text": [
      "True\n"
     ]
    }
   ],
   "source": [
    "def has_debug_info(pe):\n",
    "    return hasattr(pe, 'DIRECTORY_ENTRY_DEBUG')\n",
    "\n",
    "pe = pefile.PE(files[44])\n",
    "print(has_debug_info(pe))"
   ]
  },
  {
   "cell_type": "markdown",
   "metadata": {},
   "source": [
    "# Entropy"
   ]
  },
  {
   "cell_type": "markdown",
   "metadata": {},
   "source": [
    "#### The entropy of a files tells us how encrypted a file might be. The entropy is calculated using \"shannon entropy\" returning an entropy between 0 - 8 for each byte. If the entropy is high, like 6.5 - 8, it can be suspicious, indicating a lot of encryption is done in the file."
   ]
  },
  {
   "cell_type": "code",
   "execution_count": null,
   "metadata": {},
   "outputs": [
    {
     "name": "stdout",
     "output_type": "stream",
     "text": [
      "{'.text': 6.604, '.rdata': 6.109, '.rodata': 4.322, '.idata': 0, '.edata': 0, '.rsrc': 2.209, '.reloc': 5.46, '.tls': 0.244, '.pdata': 6.208, '.xdata': 0}\n"
     ]
    }
   ],
   "source": [
    "def calc_section_entropy(pe):\n",
    "    section_entropy = {\n",
    "        \".text\": 0, # Code\n",
    "        \".rdata\": 0, # Read‑Only Data\n",
    "        \".rodata\": 0, # Read‑Only Data\n",
    "        \".idata\": 0, # Import Table\n",
    "        \".edata\": 0, # Export Table\n",
    "        \".rsrc\": 0, # Resources\n",
    "        \".reloc\": 0, # Base Relocations\n",
    "        \".tls\": 0, # Thread‑Local Storage\n",
    "        \".pdata\": 0, # Exception Unwind Data\n",
    "        \".xdata\": 0, # Exception Unwind Data\n",
    "\n",
    "    }\n",
    "    entropies = []\n",
    "    for section in pe.sections:\n",
    "        data = section.get_data()\n",
    "        section_name = section.Name.decode().strip('\\x00')\n",
    "\n",
    "        # Skip section if not one of the already defined (ADD CUSTOM SECTIONS IN FUTURE)\n",
    "        if section_name not in section_entropy.keys(): \n",
    "            continue\n",
    "\n",
    "        if not data:\n",
    "            continue\n",
    "        entropy = 0\n",
    "        if data:\n",
    "            occurences = [0]*256\n",
    "            for byte in data:\n",
    "                occurences[byte] += 1\n",
    "            for count in occurences:\n",
    "                if count == 0:\n",
    "                    continue\n",
    "                p_x = count / len(data)\n",
    "                entropy -= p_x * math.log2(p_x)\n",
    "        \n",
    "        section_entropy[section_name] = round(entropy, 3)\n",
    "        #entropies.append((section.Name.decode().strip('\\x00'), round(entropy, 3)))\n",
    "\n",
    "    return section_entropy\n",
    "\n",
    "################################################\n",
    "# Sections are important due to the possibility\n",
    "# of malicious software hiding embedded data in them.\n",
    "# If a section has abnormally high entropy it \n",
    "# can be a red flag!!!\n",
    "################################################\n",
    "def extract_all_sections(files: list):\n",
    "    sections = set()\n",
    "    for file in files:\n",
    "        pe = pefile.PE(file)\n",
    "        for section in pe.sections:\n",
    "            sections.add(section.Name.decode().strip('\\x00'))\n",
    "\n",
    "    return sections\n",
    "\n",
    "pe = pefile.PE(files[44])\n",
    "print(calc_section_entropy(pe))\n",
    "\n",
    "#print(extract_all_sections(files))"
   ]
  },
  {
   "cell_type": "markdown",
   "metadata": {},
   "source": [
    "# Feature Extraction"
   ]
  },
  {
   "cell_type": "code",
   "execution_count": 38,
   "metadata": {},
   "outputs": [
    {
     "name": "stdout",
     "output_type": "stream",
     "text": [
      "features_dict: \n",
      " {'import_hash': array([0.01568628, 0.65882355, 0.8352941 , 0.5372549 , 0.24313726,\n",
      "       0.58431375, 0.9254902 , 0.972549  , 0.8509804 , 0.8666667 ,\n",
      "       0.11372549, 0.10980392, 0.5372549 , 0.40392157, 0.33333334,\n",
      "       0.24313726], dtype=float32), 'export_hash': array([0.12941177, 0.3254902 , 0.05490196, 0.2901961 , 0.14509805,\n",
      "       0.5686275 , 0.3764706 , 0.6862745 , 0.7372549 , 0.7137255 ,\n",
      "       0.76862746, 0.7921569 , 0.05490196, 0.19215687, 0.36078432,\n",
      "       0.24313726], dtype=float32), 'has_digital_signature': True, 'timestamp': 1744771084, 'has_debug_info': True, '.text': 6.604, '.rdata': 6.109, '.rodata': 4.322, '.idata': 0, '.edata': 0, '.rsrc': 2.209, '.reloc': 5.46, '.tls': 0.244, '.pdata': 6.208, '.xdata': 0}\n",
      "flattened_features: \n",
      " [1.56862754e-02 6.58823550e-01 8.35294127e-01 5.37254930e-01\n",
      " 2.43137255e-01 5.84313750e-01 9.25490201e-01 9.72549021e-01\n",
      " 8.50980401e-01 8.66666675e-01 1.13725491e-01 1.09803922e-01\n",
      " 5.37254930e-01 4.03921574e-01 3.33333343e-01 2.43137255e-01\n",
      " 1.29411772e-01 3.25490206e-01 5.49019612e-02 2.90196091e-01\n",
      " 1.45098045e-01 5.68627477e-01 3.76470596e-01 6.86274529e-01\n",
      " 7.37254918e-01 7.13725507e-01 7.68627465e-01 7.92156875e-01\n",
      " 5.49019612e-02 1.92156866e-01 3.60784322e-01 2.43137255e-01\n",
      " 1.00000000e+00 1.74477108e+09 1.00000000e+00 6.60400000e+00\n",
      " 6.10900000e+00 4.32200000e+00 0.00000000e+00 0.00000000e+00\n",
      " 2.20900000e+00 5.46000000e+00 2.44000000e-01 6.20800000e+00\n",
      " 0.00000000e+00]\n",
      "len(flattened_features):  45\n"
     ]
    }
   ],
   "source": [
    "def md5_to_byte_vector(md5_str):\n",
    "    \"\"\"\n",
    "    Converts a 32‑char hex MD5 string into a length‑16 float32 vector in [0,1].\n",
    "    \"\"\"\n",
    "\n",
    "    if isinstance(md5_str, list):\n",
    "        return np.zeros((16,))\n",
    "\n",
    "    # 1) hex → raw bytes (length 16)\n",
    "    raw = bytes.fromhex(md5_str)\n",
    "    # 2) bytes → uint8 array → float32 → normalize\n",
    "    vec  = np.frombuffer(raw, dtype=np.uint8).astype(np.float32) / 255.0\n",
    "    return vec  # shape (16,)\n",
    "\n",
    "def get_features(file):\n",
    "    pe = pefile.PE(file)\n",
    "    pe.full_load()\n",
    "    features = {\n",
    "        \"import_hash\": md5_to_byte_vector(get_imp_hash(pe)),\n",
    "        \"export_hash\": md5_to_byte_vector(get_exports(pe)),\n",
    "        \"has_digital_signature\": check_digital_signature(pe),\n",
    "        \"timestamp\": get_timestamp(pe),\n",
    "        \"has_debug_info\": has_debug_info(pe),\n",
    "        **calc_section_entropy(pe) # Dict unpacking\n",
    "    }\n",
    "\n",
    "    return features\n",
    "\n",
    "def get_flattened_features(features: dict):\n",
    "    flattenend = []\n",
    "    for key, item in features.items():\n",
    "        if isinstance(item, np.ndarray):\n",
    "            flattenend.extend(list(item))\n",
    "        elif isinstance(item, list):\n",
    "            flattenend.extend(list(item))\n",
    "        else:\n",
    "            flattenend.append(item)\n",
    "    \n",
    "    return np.array(flattenend)\n",
    "\n",
    "features_dict = get_features(files[44])\n",
    "print(\"features_dict: \\n\", features_dict)\n",
    "flattened_features = get_flattened_features(features_dict)\n",
    "print(\"flattened_features: \\n\", flattened_features)\n",
    "print(\"len(flattened_features): \", len(flattened_features))"
   ]
  },
  {
   "cell_type": "markdown",
   "metadata": {},
   "source": [
    "# Autoencoder"
   ]
  },
  {
   "cell_type": "code",
   "execution_count": 35,
   "metadata": {},
   "outputs": [],
   "source": [
    "class AutoEncoder(nn.Module):\n",
    "\n",
    "    def __init__(self, input_dims, hidden_dims=(128, 64, 32)):\n",
    "        super().__init__()\n",
    "\n",
    "        self.encoder = nn.Sequential()\n",
    "\n",
    "        prev_dims = input_dims\n",
    "        for dim in hidden_dims:\n",
    "            self.encoder.append(nn.Linear(prev_dims, dim))\n",
    "            self.encoder.append(nn.BatchNorm1d(dim))\n",
    "            self.encoder.append(nn.ReLU(inplace=True))\n",
    "            prev_dims = dim\n",
    "        \n",
    "        self.decoder = nn.Sequential()\n",
    "\n",
    "        for dim in hidden_dims[::-1]:\n",
    "            self.decoder.append(nn.Linear(prev_dims, dim))\n",
    "            self.decoder.append(nn.BatchNorm1d(dim))\n",
    "            self.decoder.append(nn.ReLU(inplace=True))\n",
    "            prev_dims = dim\n",
    "\n",
    "    def forward(self, x):\n",
    "        latent = self.encoder(x)\n",
    "        reconstructed = self.decoder(latent)\n",
    "\n",
    "        return latent, reconstructed"
   ]
  },
  {
   "cell_type": "markdown",
   "metadata": {},
   "source": [
    "# Dataset"
   ]
  },
  {
   "cell_type": "code",
   "execution_count": 44,
   "metadata": {},
   "outputs": [],
   "source": [
    "class CustomDataset(Dataset):\n",
    "\n",
    "    def __init__(self, data):\n",
    "        self.data = data\n",
    "\n",
    "    def __len__(self):\n",
    "        return len(self.data)\n",
    "    \n",
    "    def __getitem__(self, idx):\n",
    "        return self.data[idx]\n",
    "\n",
    "dset = CustomDataset(files)\n",
    "train_data = DataLoader(dset, batch_size=16, shuffle=True)"
   ]
  },
  {
   "cell_type": "markdown",
   "metadata": {},
   "source": [
    "# Training"
   ]
  },
  {
   "cell_type": "code",
   "execution_count": 45,
   "metadata": {},
   "outputs": [
    {
     "ename": "TypeError",
     "evalue": "stat: path should be string, bytes, os.PathLike or integer, not list",
     "output_type": "error",
     "traceback": [
      "\u001b[31m---------------------------------------------------------------------------\u001b[39m",
      "\u001b[31mTypeError\u001b[39m                                 Traceback (most recent call last)",
      "\u001b[36mCell\u001b[39m\u001b[36m \u001b[39m\u001b[32mIn[45]\u001b[39m\u001b[32m, line 14\u001b[39m\n\u001b[32m     11\u001b[39m file = batch\n\u001b[32m     13\u001b[39m \u001b[38;5;66;03m# Features into model\u001b[39;00m\n\u001b[32m---> \u001b[39m\u001b[32m14\u001b[39m features_dict = \u001b[43mget_features\u001b[49m\u001b[43m(\u001b[49m\u001b[43mfiles\u001b[49m\u001b[43m)\u001b[49m\n\u001b[32m     15\u001b[39m flattened_features = get_flattened_features(features_dict)\n\u001b[32m     17\u001b[39m prediction = AE(flattened_features)\n",
      "\u001b[36mCell\u001b[39m\u001b[36m \u001b[39m\u001b[32mIn[38]\u001b[39m\u001b[32m, line 16\u001b[39m, in \u001b[36mget_features\u001b[39m\u001b[34m(file)\u001b[39m\n\u001b[32m     15\u001b[39m \u001b[38;5;28;01mdef\u001b[39;00m \u001b[34mget_features\u001b[39m(file):\n\u001b[32m---> \u001b[39m\u001b[32m16\u001b[39m     pe = \u001b[43mpefile\u001b[49m\u001b[43m.\u001b[49m\u001b[43mPE\u001b[49m\u001b[43m(\u001b[49m\u001b[43mfile\u001b[49m\u001b[43m)\u001b[49m\n\u001b[32m     17\u001b[39m     pe.full_load()\n\u001b[32m     18\u001b[39m     features = {\n\u001b[32m     19\u001b[39m         \u001b[33m\"\u001b[39m\u001b[33mimport_hash\u001b[39m\u001b[33m\"\u001b[39m: md5_to_byte_vector(get_imp_hash(pe)),\n\u001b[32m     20\u001b[39m         \u001b[33m\"\u001b[39m\u001b[33mexport_hash\u001b[39m\u001b[33m\"\u001b[39m: md5_to_byte_vector(get_exports(pe)),\n\u001b[32m   (...)\u001b[39m\u001b[32m     24\u001b[39m         **calc_section_entropy(pe) \u001b[38;5;66;03m# Dict unpacking\u001b[39;00m\n\u001b[32m     25\u001b[39m     }\n",
      "\u001b[36mFile \u001b[39m\u001b[32m~/miniconda3/lib/python3.12/site-packages/pefile.py:2941\u001b[39m, in \u001b[36mPE.__init__\u001b[39m\u001b[34m(self, name, data, fast_load, max_symbol_exports, max_repeated_symbol)\u001b[39m\n\u001b[32m   2939\u001b[39m fast_load = fast_load \u001b[38;5;28;01mif\u001b[39;00m fast_load \u001b[38;5;129;01mis\u001b[39;00m \u001b[38;5;129;01mnot\u001b[39;00m \u001b[38;5;28;01mNone\u001b[39;00m \u001b[38;5;28;01melse\u001b[39;00m \u001b[38;5;28mglobals\u001b[39m()[\u001b[33m\"\u001b[39m\u001b[33mfast_load\u001b[39m\u001b[33m\"\u001b[39m]\n\u001b[32m   2940\u001b[39m \u001b[38;5;28;01mtry\u001b[39;00m:\n\u001b[32m-> \u001b[39m\u001b[32m2941\u001b[39m     \u001b[38;5;28;43mself\u001b[39;49m\u001b[43m.\u001b[49m\u001b[43m__parse__\u001b[49m\u001b[43m(\u001b[49m\u001b[43mname\u001b[49m\u001b[43m,\u001b[49m\u001b[43m \u001b[49m\u001b[43mdata\u001b[49m\u001b[43m,\u001b[49m\u001b[43m \u001b[49m\u001b[43mfast_load\u001b[49m\u001b[43m)\u001b[49m\n\u001b[32m   2942\u001b[39m \u001b[38;5;28;01mexcept\u001b[39;00m:\n\u001b[32m   2943\u001b[39m     \u001b[38;5;28mself\u001b[39m.close()\n",
      "\u001b[36mFile \u001b[39m\u001b[32m~/miniconda3/lib/python3.12/site-packages/pefile.py:3021\u001b[39m, in \u001b[36mPE.__parse__\u001b[39m\u001b[34m(self, fname, data, fast_load)\u001b[39m\n\u001b[32m   3014\u001b[39m \u001b[38;5;250m\u001b[39m\u001b[33;03m\"\"\"Parse a Portable Executable file.\u001b[39;00m\n\u001b[32m   3015\u001b[39m \n\u001b[32m   3016\u001b[39m \u001b[33;03mLoads a PE file, parsing all its structures and making them available\u001b[39;00m\n\u001b[32m   3017\u001b[39m \u001b[33;03mthrough the instance's attributes.\u001b[39;00m\n\u001b[32m   3018\u001b[39m \u001b[33;03m\"\"\"\u001b[39;00m\n\u001b[32m   3020\u001b[39m \u001b[38;5;28;01mif\u001b[39;00m fname \u001b[38;5;129;01mis\u001b[39;00m \u001b[38;5;129;01mnot\u001b[39;00m \u001b[38;5;28;01mNone\u001b[39;00m:\n\u001b[32m-> \u001b[39m\u001b[32m3021\u001b[39m     stat = \u001b[43mos\u001b[49m\u001b[43m.\u001b[49m\u001b[43mstat\u001b[49m\u001b[43m(\u001b[49m\u001b[43mfname\u001b[49m\u001b[43m)\u001b[49m\n\u001b[32m   3022\u001b[39m     \u001b[38;5;28;01mif\u001b[39;00m stat.st_size == \u001b[32m0\u001b[39m:\n\u001b[32m   3023\u001b[39m         \u001b[38;5;28;01mraise\u001b[39;00m PEFormatError(\u001b[33m\"\u001b[39m\u001b[33mThe file is empty\u001b[39m\u001b[33m\"\u001b[39m)\n",
      "\u001b[31mTypeError\u001b[39m: stat: path should be string, bytes, os.PathLike or integer, not list"
     ]
    }
   ],
   "source": [
    "input_dims = len(get_flattened_features(get_features(files[1])))\n",
    "hidden_dims = (256, 128, 64)\n",
    "AE = AutoEncoder(input_dims, hidden_dims)\n",
    "optimizer = optim.Adam(AE.parameters(), lr=0.001, weight_decay=0.02)\n",
    "loss_fn = nn.MSELoss()\n",
    "\n",
    "losses = []\n",
    "EPOCHS = 50\n",
    "for epoch in range(EPOCHS):\n",
    "    for batch_idx, batch in enumerate(train_data):\n",
    "        file = batch\n",
    "\n",
    "        # Features into model\n",
    "        features_dict = get_features(files)\n",
    "        flattened_features = get_flattened_features(features_dict)\n",
    "\n",
    "        prediction = AE(flattened_features)\n",
    "\n",
    "        loss = loss_fn(flattened_features, prediction)\n",
    "        optimizer.zero_grad()\n",
    "        loss.backward()\n",
    "        optimizer.step()\n",
    "\n",
    "        losses.append(loss.item())\n",
    "\n",
    "\n",
    "plt.figure(figsize=(10,8))\n",
    "plt.plot([e for e in range(EPOCHS)], losses)\n",
    "plt.show()\n",
    "\n",
    "        \n",
    "\n"
   ]
  },
  {
   "cell_type": "code",
   "execution_count": null,
   "metadata": {},
   "outputs": [],
   "source": []
  }
 ],
 "metadata": {
  "kernelspec": {
   "display_name": "base",
   "language": "python",
   "name": "python3"
  },
  "language_info": {
   "codemirror_mode": {
    "name": "ipython",
    "version": 3
   },
   "file_extension": ".py",
   "mimetype": "text/x-python",
   "name": "python",
   "nbconvert_exporter": "python",
   "pygments_lexer": "ipython3",
   "version": "3.12.9"
  }
 },
 "nbformat": 4,
 "nbformat_minor": 2
}
